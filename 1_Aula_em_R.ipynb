{
  "nbformat": 4,
  "nbformat_minor": 0,
  "metadata": {
    "colab": {
      "provenance": [],
      "authorship_tag": "ABX9TyPJW6QoabKaUQWUEeTVjJRA",
      "include_colab_link": true
    },
    "kernelspec": {
      "name": "ir",
      "display_name": "R"
    },
    "language_info": {
      "name": "R"
    }
  },
  "cells": [
    {
      "cell_type": "markdown",
      "metadata": {
        "id": "view-in-github",
        "colab_type": "text"
      },
      "source": [
        "<a href=\"https://colab.research.google.com/github/HolaSoyMath/DataScience-R/blob/main/1_Aula_em_R.ipynb\" target=\"_parent\"><img src=\"https://colab.research.google.com/assets/colab-badge.svg\" alt=\"Open In Colab\"/></a>"
      ]
    },
    {
      "cell_type": "code",
      "execution_count": null,
      "metadata": {
        "colab": {
          "base_uri": "https://localhost:8080/"
        },
        "id": "tJVJ42hPKV31",
        "outputId": "6e684894-1a00-472d-f0be-0171b9dfb4e5"
      },
      "outputs": [
        {
          "output_type": "stream",
          "name": "stdout",
          "text": [
            "[1] \"Hello World!\"\n"
          ]
        }
      ],
      "source": [
        "print(\"Hello World!\")"
      ]
    },
    {
      "cell_type": "code",
      "source": [
        "x <- 10\n",
        "y <- 1:10\n",
        "y"
      ],
      "metadata": {
        "colab": {
          "base_uri": "https://localhost:8080/",
          "height": 34
        },
        "id": "a9hMGG9nN5m_",
        "outputId": "7254a014-b6df-453e-b2e1-54fcab5ff281"
      },
      "execution_count": null,
      "outputs": [
        {
          "output_type": "display_data",
          "data": {
            "text/html": [
              "<style>\n",
              ".list-inline {list-style: none; margin:0; padding: 0}\n",
              ".list-inline>li {display: inline-block}\n",
              ".list-inline>li:not(:last-child)::after {content: \"\\00b7\"; padding: 0 .5ex}\n",
              "</style>\n",
              "<ol class=list-inline><li>1</li><li>2</li><li>3</li><li>4</li><li>5</li><li>6</li><li>7</li><li>8</li><li>9</li><li>10</li></ol>\n"
            ],
            "text/markdown": "1. 1\n2. 2\n3. 3\n4. 4\n5. 5\n6. 6\n7. 7\n8. 8\n9. 9\n10. 10\n\n\n",
            "text/latex": "\\begin{enumerate*}\n\\item 1\n\\item 2\n\\item 3\n\\item 4\n\\item 5\n\\item 6\n\\item 7\n\\item 8\n\\item 9\n\\item 10\n\\end{enumerate*}\n",
            "text/plain": [
              " [1]  1  2  3  4  5  6  7  8  9 10"
            ]
          },
          "metadata": {}
        }
      ]
    },
    {
      "cell_type": "code",
      "source": [
        "x <- c(10,20,30)\n",
        "y <- c(30,20,10)\n",
        "z <- x<y\n",
        "z"
      ],
      "metadata": {
        "colab": {
          "base_uri": "https://localhost:8080/",
          "height": 34
        },
        "id": "fzhw4esYO6sM",
        "outputId": "6827a646-e8cd-483d-c3af-d511f8ff0bcc"
      },
      "execution_count": null,
      "outputs": [
        {
          "output_type": "display_data",
          "data": {
            "text/html": [
              "<style>\n",
              ".list-inline {list-style: none; margin:0; padding: 0}\n",
              ".list-inline>li {display: inline-block}\n",
              ".list-inline>li:not(:last-child)::after {content: \"\\00b7\"; padding: 0 .5ex}\n",
              "</style>\n",
              "<ol class=list-inline><li>TRUE</li><li>FALSE</li><li>FALSE</li></ol>\n"
            ],
            "text/markdown": "1. TRUE\n2. FALSE\n3. FALSE\n\n\n",
            "text/latex": "\\begin{enumerate*}\n\\item TRUE\n\\item FALSE\n\\item FALSE\n\\end{enumerate*}\n",
            "text/plain": [
              "[1]  TRUE FALSE FALSE"
            ]
          },
          "metadata": {}
        }
      ]
    },
    {
      "cell_type": "code",
      "source": [
        "x_media <- mean(x)\n",
        "y_media <- mean(y)\n",
        "x_media\n",
        "y_media"
      ],
      "metadata": {
        "colab": {
          "base_uri": "https://localhost:8080/",
          "height": 52
        },
        "id": "w0-BOZQBQVgl",
        "outputId": "975e497f-42b7-4928-8754-80d9cbeb9da6"
      },
      "execution_count": null,
      "outputs": [
        {
          "output_type": "display_data",
          "data": {
            "text/html": [
              "20"
            ],
            "text/markdown": "20",
            "text/latex": "20",
            "text/plain": [
              "[1] 20"
            ]
          },
          "metadata": {}
        },
        {
          "output_type": "display_data",
          "data": {
            "text/html": [
              "20"
            ],
            "text/markdown": "20",
            "text/latex": "20",
            "text/plain": [
              "[1] 20"
            ]
          },
          "metadata": {}
        }
      ]
    },
    {
      "cell_type": "code",
      "source": [
        "# + = Adição\n",
        "# - = Subtração\n",
        "# * = Multiplicação\n",
        "# / = Divisão\n",
        "# ** = Potência\n",
        "# %% = Resto da divisão\n",
        "# %/% = Parte inteira da divisão"
      ],
      "metadata": {
        "colab": {
          "base_uri": "https://localhost:8080/",
          "height": 34
        },
        "id": "7zMqbz3GQ7sA",
        "outputId": "470c0483-f3b2-4181-a0d4-1d504eaa675c"
      },
      "execution_count": null,
      "outputs": [
        {
          "output_type": "display_data",
          "data": {
            "text/html": [
              "2"
            ],
            "text/markdown": "2",
            "text/latex": "2",
            "text/plain": [
              "[1] 2"
            ]
          },
          "metadata": {}
        }
      ]
    },
    {
      "cell_type": "code",
      "source": [
        "# < : Menor que\n",
        "# <= : Menor ou igual a\n",
        "# > : Maior que\n",
        "# >= : Maior ou igual a\n",
        "# == : Igual a\n",
        "# != : Diferente de\n",
        "# sqrt() : Raíz quadrada\n",
        "# fatorial() : Fatorial"
      ],
      "metadata": {
        "id": "L9QIVFtTRgLk"
      },
      "execution_count": null,
      "outputs": []
    },
    {
      "cell_type": "code",
      "source": [
        "x <- c(TRUE, TRUE, FALSE, FALSE, TRUE)\n",
        "y <- c(FALSE, TRUE, TRUE, FALSE, FALSE)\n",
        "\n",
        "# | = OU (União)\n",
        "# & = E (Interseção)\n",
        "\n",
        "z_ou <- (x | y)\n",
        "z_e <- (x & y)\n",
        "\n",
        "z_ou\n",
        "z_e"
      ],
      "metadata": {
        "colab": {
          "base_uri": "https://localhost:8080/",
          "height": 52
        },
        "id": "Hrp9ifBhSE4g",
        "outputId": "9e4c14c9-7d45-47f7-aabd-e50e657dad6b"
      },
      "execution_count": null,
      "outputs": [
        {
          "output_type": "display_data",
          "data": {
            "text/html": [
              "<style>\n",
              ".list-inline {list-style: none; margin:0; padding: 0}\n",
              ".list-inline>li {display: inline-block}\n",
              ".list-inline>li:not(:last-child)::after {content: \"\\00b7\"; padding: 0 .5ex}\n",
              "</style>\n",
              "<ol class=list-inline><li>TRUE</li><li>TRUE</li><li>TRUE</li><li>FALSE</li><li>TRUE</li></ol>\n"
            ],
            "text/markdown": "1. TRUE\n2. TRUE\n3. TRUE\n4. FALSE\n5. TRUE\n\n\n",
            "text/latex": "\\begin{enumerate*}\n\\item TRUE\n\\item TRUE\n\\item TRUE\n\\item FALSE\n\\item TRUE\n\\end{enumerate*}\n",
            "text/plain": [
              "[1]  TRUE  TRUE  TRUE FALSE  TRUE"
            ]
          },
          "metadata": {}
        },
        {
          "output_type": "display_data",
          "data": {
            "text/html": [
              "<style>\n",
              ".list-inline {list-style: none; margin:0; padding: 0}\n",
              ".list-inline>li {display: inline-block}\n",
              ".list-inline>li:not(:last-child)::after {content: \"\\00b7\"; padding: 0 .5ex}\n",
              "</style>\n",
              "<ol class=list-inline><li>FALSE</li><li>TRUE</li><li>FALSE</li><li>FALSE</li><li>FALSE</li></ol>\n"
            ],
            "text/markdown": "1. FALSE\n2. TRUE\n3. FALSE\n4. FALSE\n5. FALSE\n\n\n",
            "text/latex": "\\begin{enumerate*}\n\\item FALSE\n\\item TRUE\n\\item FALSE\n\\item FALSE\n\\item FALSE\n\\end{enumerate*}\n",
            "text/plain": [
              "[1] FALSE  TRUE FALSE FALSE FALSE"
            ]
          },
          "metadata": {}
        }
      ]
    },
    {
      "cell_type": "code",
      "source": [
        "v1 <- vector()\n",
        "v2 <- vector(\"integer\", length = 10)\n",
        "v3 <- character(10)\n",
        "v4 <- c(5,10,15,4,2,4,6)\n",
        "v5"
      ],
      "metadata": {
        "colab": {
          "base_uri": "https://localhost:8080/",
          "height": 34
        },
        "id": "Ff1GXHplT4a3",
        "outputId": "420bdecb-3e3f-484b-dee6-a2028a2b65df"
      },
      "execution_count": null,
      "outputs": [
        {
          "output_type": "display_data",
          "data": {
            "text/html": [
              "<style>\n",
              ".list-inline {list-style: none; margin:0; padding: 0}\n",
              ".list-inline>li {display: inline-block}\n",
              ".list-inline>li:not(:last-child)::after {content: \"\\00b7\"; padding: 0 .5ex}\n",
              "</style>\n",
              "<ol class=list-inline><li>1</li><li>2</li><li>3.5</li><li>9.8</li></ol>\n"
            ],
            "text/markdown": "1. 1\n2. 2\n3. 3.5\n4. 9.8\n\n\n",
            "text/latex": "\\begin{enumerate*}\n\\item 1\n\\item 2\n\\item 3.5\n\\item 9.8\n\\end{enumerate*}\n",
            "text/plain": [
              "[1] 1.0 2.0 3.5 9.8"
            ]
          },
          "metadata": {}
        }
      ]
    },
    {
      "cell_type": "code",
      "source": [
        "x <- list(1:10, \"Z\", TRUE, c(\"TSU\", \"KILL\"))\n",
        "x\n",
        "print(\"Índice 1\")\n",
        "x[1]"
      ],
      "metadata": {
        "colab": {
          "base_uri": "https://localhost:8080/",
          "height": 177
        },
        "id": "ciG6e8t7Vzio",
        "outputId": "ff158283-d67c-47af-8a5b-cf34331bbbc9"
      },
      "execution_count": null,
      "outputs": [
        {
          "output_type": "display_data",
          "data": {
            "text/html": [
              "<ol>\n",
              "\t<li><style>\n",
              ".list-inline {list-style: none; margin:0; padding: 0}\n",
              ".list-inline>li {display: inline-block}\n",
              ".list-inline>li:not(:last-child)::after {content: \"\\00b7\"; padding: 0 .5ex}\n",
              "</style>\n",
              "<ol class=list-inline><li>1</li><li>2</li><li>3</li><li>4</li><li>5</li><li>6</li><li>7</li><li>8</li><li>9</li><li>10</li></ol>\n",
              "</li>\n",
              "\t<li>'Z'</li>\n",
              "\t<li>TRUE</li>\n",
              "\t<li><style>\n",
              ".list-inline {list-style: none; margin:0; padding: 0}\n",
              ".list-inline>li {display: inline-block}\n",
              ".list-inline>li:not(:last-child)::after {content: \"\\00b7\"; padding: 0 .5ex}\n",
              "</style>\n",
              "<ol class=list-inline><li>'TSU'</li><li>'KILL'</li></ol>\n",
              "</li>\n",
              "</ol>\n"
            ],
            "text/markdown": "1. 1. 1\n2. 2\n3. 3\n4. 4\n5. 5\n6. 6\n7. 7\n8. 8\n9. 9\n10. 10\n\n\n\n2. 'Z'\n3. TRUE\n4. 1. 'TSU'\n2. 'KILL'\n\n\n\n\n\n",
            "text/latex": "\\begin{enumerate}\n\\item \\begin{enumerate*}\n\\item 1\n\\item 2\n\\item 3\n\\item 4\n\\item 5\n\\item 6\n\\item 7\n\\item 8\n\\item 9\n\\item 10\n\\end{enumerate*}\n\n\\item 'Z'\n\\item TRUE\n\\item \\begin{enumerate*}\n\\item 'TSU'\n\\item 'KILL'\n\\end{enumerate*}\n\n\\end{enumerate}\n",
            "text/plain": [
              "[[1]]\n",
              " [1]  1  2  3  4  5  6  7  8  9 10\n",
              "\n",
              "[[2]]\n",
              "[1] \"Z\"\n",
              "\n",
              "[[3]]\n",
              "[1] TRUE\n",
              "\n",
              "[[4]]\n",
              "[1] \"TSU\"  \"KILL\"\n"
            ]
          },
          "metadata": {}
        },
        {
          "output_type": "stream",
          "name": "stdout",
          "text": [
            "[1] \"Índice 1\"\n"
          ]
        },
        {
          "output_type": "display_data",
          "data": {
            "text/html": [
              "<ol>\n",
              "\t<li><style>\n",
              ".list-inline {list-style: none; margin:0; padding: 0}\n",
              ".list-inline>li {display: inline-block}\n",
              ".list-inline>li:not(:last-child)::after {content: \"\\00b7\"; padding: 0 .5ex}\n",
              "</style>\n",
              "<ol class=list-inline><li>1</li><li>2</li><li>3</li><li>4</li><li>5</li><li>6</li><li>7</li><li>8</li><li>9</li><li>10</li></ol>\n",
              "</li>\n",
              "</ol>\n"
            ],
            "text/markdown": "1. 1. 1\n2. 2\n3. 3\n4. 4\n5. 5\n6. 6\n7. 7\n8. 8\n9. 9\n10. 10\n\n\n\n\n\n",
            "text/latex": "\\begin{enumerate}\n\\item \\begin{enumerate*}\n\\item 1\n\\item 2\n\\item 3\n\\item 4\n\\item 5\n\\item 6\n\\item 7\n\\item 8\n\\item 9\n\\item 10\n\\end{enumerate*}\n\n\\end{enumerate}\n",
            "text/plain": [
              "[[1]]\n",
              " [1]  1  2  3  4  5  6  7  8  9 10\n"
            ]
          },
          "metadata": {}
        }
      ]
    },
    {
      "cell_type": "code",
      "source": [
        "math <- list(nome=\"Matheus\", CPF=\"0123456789\", tel=\"41 984860525\")\n",
        "math$nome\n",
        "math[['end']] <- \"Rua dos pintagalos, 500\"\n",
        "math$end"
      ],
      "metadata": {
        "colab": {
          "base_uri": "https://localhost:8080/",
          "height": 52
        },
        "id": "3Pydpxn0YEPi",
        "outputId": "7e1f53b9-09c4-458a-e631-2cccda6e25f2"
      },
      "execution_count": null,
      "outputs": [
        {
          "output_type": "display_data",
          "data": {
            "text/html": [
              "'Matheus'"
            ],
            "text/markdown": "'Matheus'",
            "text/latex": "'Matheus'",
            "text/plain": [
              "[1] \"Matheus\""
            ]
          },
          "metadata": {}
        },
        {
          "output_type": "display_data",
          "data": {
            "text/html": [
              "'Rua dos pintagalos, 500'"
            ],
            "text/markdown": "'Rua dos pintagalos, 500'",
            "text/latex": "'Rua dos pintagalos, 500'",
            "text/plain": [
              "[1] \"Rua dos pintagalos, 500\""
            ]
          },
          "metadata": {}
        }
      ]
    },
    {
      "cell_type": "code",
      "source": [
        "# Criar um vetor com valores de -5 a +5\n",
        "v1 <- -5:5\n",
        "print(\"Valores de V1: \")\n",
        "v1\n",
        "# Criar outro vetor com valores do v1 elevado a 3 (v1**3)\n",
        "v2 <- v1 ** 3\n",
        "print(\"Valores de V2: \")\n",
        "v2\n",
        "# Comparar logicamente ambos os vetores\n",
        "v3 <- v1 == v2\n",
        "print(\"Valores de V3: \")\n",
        "v3"
      ],
      "metadata": {
        "colab": {
          "base_uri": "https://localhost:8080/",
          "height": 121
        },
        "id": "NzlBx2I1ZW13",
        "outputId": "bd01adee-ef1a-4ff4-f7f3-ef590cd4d392"
      },
      "execution_count": null,
      "outputs": [
        {
          "output_type": "stream",
          "name": "stdout",
          "text": [
            "[1] \"Valores de V1: \"\n"
          ]
        },
        {
          "output_type": "display_data",
          "data": {
            "text/html": [
              "<style>\n",
              ".list-inline {list-style: none; margin:0; padding: 0}\n",
              ".list-inline>li {display: inline-block}\n",
              ".list-inline>li:not(:last-child)::after {content: \"\\00b7\"; padding: 0 .5ex}\n",
              "</style>\n",
              "<ol class=list-inline><li>-5</li><li>-4</li><li>-3</li><li>-2</li><li>-1</li><li>0</li><li>1</li><li>2</li><li>3</li><li>4</li><li>5</li></ol>\n"
            ],
            "text/markdown": "1. -5\n2. -4\n3. -3\n4. -2\n5. -1\n6. 0\n7. 1\n8. 2\n9. 3\n10. 4\n11. 5\n\n\n",
            "text/latex": "\\begin{enumerate*}\n\\item -5\n\\item -4\n\\item -3\n\\item -2\n\\item -1\n\\item 0\n\\item 1\n\\item 2\n\\item 3\n\\item 4\n\\item 5\n\\end{enumerate*}\n",
            "text/plain": [
              " [1] -5 -4 -3 -2 -1  0  1  2  3  4  5"
            ]
          },
          "metadata": {}
        },
        {
          "output_type": "stream",
          "name": "stdout",
          "text": [
            "[1] \"Valores de V2: \"\n"
          ]
        },
        {
          "output_type": "display_data",
          "data": {
            "text/html": [
              "<style>\n",
              ".list-inline {list-style: none; margin:0; padding: 0}\n",
              ".list-inline>li {display: inline-block}\n",
              ".list-inline>li:not(:last-child)::after {content: \"\\00b7\"; padding: 0 .5ex}\n",
              "</style>\n",
              "<ol class=list-inline><li>-125</li><li>-64</li><li>-27</li><li>-8</li><li>-1</li><li>0</li><li>1</li><li>8</li><li>27</li><li>64</li><li>125</li></ol>\n"
            ],
            "text/markdown": "1. -125\n2. -64\n3. -27\n4. -8\n5. -1\n6. 0\n7. 1\n8. 8\n9. 27\n10. 64\n11. 125\n\n\n",
            "text/latex": "\\begin{enumerate*}\n\\item -125\n\\item -64\n\\item -27\n\\item -8\n\\item -1\n\\item 0\n\\item 1\n\\item 8\n\\item 27\n\\item 64\n\\item 125\n\\end{enumerate*}\n",
            "text/plain": [
              " [1] -125  -64  -27   -8   -1    0    1    8   27   64  125"
            ]
          },
          "metadata": {}
        },
        {
          "output_type": "stream",
          "name": "stdout",
          "text": [
            "[1] \"Valores de V3: \"\n"
          ]
        },
        {
          "output_type": "display_data",
          "data": {
            "text/html": [
              "<style>\n",
              ".list-inline {list-style: none; margin:0; padding: 0}\n",
              ".list-inline>li {display: inline-block}\n",
              ".list-inline>li:not(:last-child)::after {content: \"\\00b7\"; padding: 0 .5ex}\n",
              "</style>\n",
              "<ol class=list-inline><li>FALSE</li><li>FALSE</li><li>FALSE</li><li>FALSE</li><li>TRUE</li><li>TRUE</li><li>TRUE</li><li>FALSE</li><li>FALSE</li><li>FALSE</li><li>FALSE</li></ol>\n"
            ],
            "text/markdown": "1. FALSE\n2. FALSE\n3. FALSE\n4. FALSE\n5. TRUE\n6. TRUE\n7. TRUE\n8. FALSE\n9. FALSE\n10. FALSE\n11. FALSE\n\n\n",
            "text/latex": "\\begin{enumerate*}\n\\item FALSE\n\\item FALSE\n\\item FALSE\n\\item FALSE\n\\item TRUE\n\\item TRUE\n\\item TRUE\n\\item FALSE\n\\item FALSE\n\\item FALSE\n\\item FALSE\n\\end{enumerate*}\n",
            "text/plain": [
              " [1] FALSE FALSE FALSE FALSE  TRUE  TRUE  TRUE FALSE FALSE FALSE FALSE"
            ]
          },
          "metadata": {}
        }
      ]
    },
    {
      "cell_type": "code",
      "source": [
        "v1 <- seq(1,10,2) # De 1 a 10 com step 2\n",
        "v2 <- seq(2,5,0.5)\n",
        "v3 <- seq(1,5,length.out = 10)# De 1 a 5 forçando ter 10 numeros no meio\n",
        "v4 <- rep(20,5) # Repetir o valor 20 por 5 vezes\n",
        "v5 <- rep(5:10,3)# Repetir a sequencia de 5 a 10, 3 vezes\n",
        "v6 <- rep(5:10, length.out=7) # Repetir a sequencia de 5 a 10, até ter 7 valores, no caso ficaria de 5 a 10 e adiciona novamente o valor 5\n",
        "v6[6]\n",
        "v6[-6] # Elimina o sexto elemento do vetor\n",
        "v6[c(1,3)] # Resulta no primeiro e terceiro elemento do vetor, formando um novo vetor"
      ],
      "metadata": {
        "id": "LTQ_2kN5hzBq",
        "colab": {
          "base_uri": "https://localhost:8080/",
          "height": 86
        },
        "outputId": "0217a55e-9498-4129-879c-9b2c14498623"
      },
      "execution_count": 56,
      "outputs": [
        {
          "output_type": "display_data",
          "data": {
            "text/html": [
              "10"
            ],
            "text/markdown": "10",
            "text/latex": "10",
            "text/plain": [
              "[1] 10"
            ]
          },
          "metadata": {}
        },
        {
          "output_type": "display_data",
          "data": {
            "text/html": [
              "<style>\n",
              ".list-inline {list-style: none; margin:0; padding: 0}\n",
              ".list-inline>li {display: inline-block}\n",
              ".list-inline>li:not(:last-child)::after {content: \"\\00b7\"; padding: 0 .5ex}\n",
              "</style>\n",
              "<ol class=list-inline><li>5</li><li>6</li><li>7</li><li>8</li><li>9</li><li>5</li></ol>\n"
            ],
            "text/markdown": "1. 5\n2. 6\n3. 7\n4. 8\n5. 9\n6. 5\n\n\n",
            "text/latex": "\\begin{enumerate*}\n\\item 5\n\\item 6\n\\item 7\n\\item 8\n\\item 9\n\\item 5\n\\end{enumerate*}\n",
            "text/plain": [
              "[1] 5 6 7 8 9 5"
            ]
          },
          "metadata": {}
        },
        {
          "output_type": "display_data",
          "data": {
            "text/html": [
              "<style>\n",
              ".list-inline {list-style: none; margin:0; padding: 0}\n",
              ".list-inline>li {display: inline-block}\n",
              ".list-inline>li:not(:last-child)::after {content: \"\\00b7\"; padding: 0 .5ex}\n",
              "</style>\n",
              "<ol class=list-inline><li>5</li><li>6</li><li>7</li><li>8</li><li>9</li><li>10</li><li>5</li></ol>\n"
            ],
            "text/markdown": "1. 5\n2. 6\n3. 7\n4. 8\n5. 9\n6. 10\n7. 5\n\n\n",
            "text/latex": "\\begin{enumerate*}\n\\item 5\n\\item 6\n\\item 7\n\\item 8\n\\item 9\n\\item 10\n\\item 5\n\\end{enumerate*}\n",
            "text/plain": [
              "[1]  5  6  7  8  9 10  5"
            ]
          },
          "metadata": {}
        },
        {
          "output_type": "display_data",
          "data": {
            "text/html": [
              "<style>\n",
              ".list-inline {list-style: none; margin:0; padding: 0}\n",
              ".list-inline>li {display: inline-block}\n",
              ".list-inline>li:not(:last-child)::after {content: \"\\00b7\"; padding: 0 .5ex}\n",
              "</style>\n",
              "<ol class=list-inline><li>5</li><li>7</li></ol>\n"
            ],
            "text/markdown": "1. 5\n2. 7\n\n\n",
            "text/latex": "\\begin{enumerate*}\n\\item 5\n\\item 7\n\\end{enumerate*}\n",
            "text/plain": [
              "[1] 5 7"
            ]
          },
          "metadata": {}
        }
      ]
    },
    {
      "cell_type": "code",
      "source": [
        "matriz <- matrix(1:6, nrow=2, ncol=3)\n",
        "dim(matriz)\n",
        "nrow(matriz)\n",
        "ncol(matriz)\n",
        "\n",
        "matriz [2,2] # Seleciona um elemento da linha 2, coluna 2"
      ],
      "metadata": {
        "colab": {
          "base_uri": "https://localhost:8080/",
          "height": 86
        },
        "id": "rCA9zhGUlI9k",
        "outputId": "590c1660-7501-4b9b-fae9-5927500ad174"
      },
      "execution_count": 59,
      "outputs": [
        {
          "output_type": "display_data",
          "data": {
            "text/html": [
              "<style>\n",
              ".list-inline {list-style: none; margin:0; padding: 0}\n",
              ".list-inline>li {display: inline-block}\n",
              ".list-inline>li:not(:last-child)::after {content: \"\\00b7\"; padding: 0 .5ex}\n",
              "</style>\n",
              "<ol class=list-inline><li>2</li><li>3</li></ol>\n"
            ],
            "text/markdown": "1. 2\n2. 3\n\n\n",
            "text/latex": "\\begin{enumerate*}\n\\item 2\n\\item 3\n\\end{enumerate*}\n",
            "text/plain": [
              "[1] 2 3"
            ]
          },
          "metadata": {}
        },
        {
          "output_type": "display_data",
          "data": {
            "text/html": [
              "2"
            ],
            "text/markdown": "2",
            "text/latex": "2",
            "text/plain": [
              "[1] 2"
            ]
          },
          "metadata": {}
        },
        {
          "output_type": "display_data",
          "data": {
            "text/html": [
              "3"
            ],
            "text/markdown": "3",
            "text/latex": "3",
            "text/plain": [
              "[1] 3"
            ]
          },
          "metadata": {}
        },
        {
          "output_type": "display_data",
          "data": {
            "text/html": [
              "4"
            ],
            "text/markdown": "4",
            "text/latex": "4",
            "text/plain": [
              "[1] 4"
            ]
          },
          "metadata": {}
        }
      ]
    },
    {
      "cell_type": "code",
      "source": [
        "matriz*10\n",
        "matriz/5"
      ],
      "metadata": {
        "colab": {
          "base_uri": "https://localhost:8080/",
          "height": 212
        },
        "id": "_DwoHo1BmZGf",
        "outputId": "77de5cf4-3b11-4e67-f178-1a30e4bfcb5f"
      },
      "execution_count": 61,
      "outputs": [
        {
          "output_type": "display_data",
          "data": {
            "text/html": [
              "<table class=\"dataframe\">\n",
              "<caption>A matrix: 2 × 3 of type dbl</caption>\n",
              "<tbody>\n",
              "\t<tr><td>10</td><td>30</td><td>50</td></tr>\n",
              "\t<tr><td>20</td><td>40</td><td>60</td></tr>\n",
              "</tbody>\n",
              "</table>\n"
            ],
            "text/markdown": "\nA matrix: 2 × 3 of type dbl\n\n| 10 | 30 | 50 |\n| 20 | 40 | 60 |\n\n",
            "text/latex": "A matrix: 2 × 3 of type dbl\n\\begin{tabular}{lll}\n\t 10 & 30 & 50\\\\\n\t 20 & 40 & 60\\\\\n\\end{tabular}\n",
            "text/plain": [
              "     [,1] [,2] [,3]\n",
              "[1,] 10   30   50  \n",
              "[2,] 20   40   60  "
            ]
          },
          "metadata": {}
        },
        {
          "output_type": "display_data",
          "data": {
            "text/html": [
              "<table class=\"dataframe\">\n",
              "<caption>A matrix: 2 × 3 of type dbl</caption>\n",
              "<tbody>\n",
              "\t<tr><td>0.2</td><td>0.6</td><td>1.0</td></tr>\n",
              "\t<tr><td>0.4</td><td>0.8</td><td>1.2</td></tr>\n",
              "</tbody>\n",
              "</table>\n"
            ],
            "text/markdown": "\nA matrix: 2 × 3 of type dbl\n\n| 0.2 | 0.6 | 1.0 |\n| 0.4 | 0.8 | 1.2 |\n\n",
            "text/latex": "A matrix: 2 × 3 of type dbl\n\\begin{tabular}{lll}\n\t 0.2 & 0.6 & 1.0\\\\\n\t 0.4 & 0.8 & 1.2\\\\\n\\end{tabular}\n",
            "text/plain": [
              "     [,1] [,2] [,3]\n",
              "[1,] 0.2  0.6  1.0 \n",
              "[2,] 0.4  0.8  1.2 "
            ]
          },
          "metadata": {}
        }
      ]
    },
    {
      "cell_type": "code",
      "source": [
        "entrada <- readline(prompt = \"Digite algo: \")\n",
        "\n",
        "if(entrada == '1'){\n",
        "  print(\"Você digitou a opção 1\")\n",
        "} else {\n",
        "  print(\"Você digitou algo diferente de 1\")\n",
        "}\n"
      ],
      "metadata": {
        "colab": {
          "base_uri": "https://localhost:8080/",
          "height": 69
        },
        "id": "T_Vof7aknF1f",
        "outputId": "b941caba-0425-4de5-e7ab-cf895ebcb9dc"
      },
      "execution_count": 64,
      "outputs": [
        {
          "output_type": "stream",
          "name": "stdout",
          "text": [
            "Digite algo: 1\n",
            "[1] \"Você digitou a opção 1\"\n"
          ]
        },
        {
          "output_type": "display_data",
          "data": {
            "text/html": [
              "'1'"
            ],
            "text/markdown": "'1'",
            "text/latex": "'1'",
            "text/plain": [
              "[1] \"1\""
            ]
          },
          "metadata": {}
        }
      ]
    },
    {
      "cell_type": "code",
      "source": [
        "for (i in seq(10,20,2)){\n",
        "  print (i)\n",
        "}"
      ],
      "metadata": {
        "colab": {
          "base_uri": "https://localhost:8080/"
        },
        "id": "_xsu95D-nZR8",
        "outputId": "3e4fef59-b960-48ff-81d9-43b82cd72b79"
      },
      "execution_count": 65,
      "outputs": [
        {
          "output_type": "stream",
          "name": "stdout",
          "text": [
            "[1] 10\n",
            "[1] 12\n",
            "[1] 14\n",
            "[1] 16\n",
            "[1] 18\n",
            "[1] 20\n"
          ]
        }
      ]
    },
    {
      "cell_type": "code",
      "source": [
        "i <- 1\n",
        "while (i<=10){\n",
        "  print(i)\n",
        "  i <- i + 1\n",
        "}"
      ],
      "metadata": {
        "colab": {
          "base_uri": "https://localhost:8080/"
        },
        "id": "Uw1g_N4go6KN",
        "outputId": "cd04f721-8244-410e-c08a-a15fb291fbbb"
      },
      "execution_count": 69,
      "outputs": [
        {
          "output_type": "stream",
          "name": "stdout",
          "text": [
            "[1] 1\n",
            "[1] 2\n",
            "[1] 3\n",
            "[1] 4\n",
            "[1] 5\n",
            "[1] 6\n",
            "[1] 7\n",
            "[1] 8\n",
            "[1] 9\n",
            "[1] 10\n"
          ]
        }
      ]
    },
    {
      "cell_type": "code",
      "source": [
        "tabela <- read.csv('/content/dados_olimpiadas.csv', header = TRUE)\n",
        "tabela"
      ],
      "metadata": {
        "colab": {
          "base_uri": "https://localhost:8080/",
          "height": 1000
        },
        "id": "rmRi_AyCpgjD",
        "outputId": "472b262e-7af5-4ad3-c39d-93db8ea9c6cf"
      },
      "execution_count": 70,
      "outputs": [
        {
          "output_type": "display_data",
          "data": {
            "text/html": [
              "<table class=\"dataframe\">\n",
              "<caption>A data.frame: 269718 × 15</caption>\n",
              "<thead>\n",
              "\t<tr><th scope=col>ano</th><th scope=col>edicao</th><th scope=col>cidade_sede</th><th scope=col>pais</th><th scope=col>delegacao</th><th scope=col>equipe</th><th scope=col>id_atleta</th><th scope=col>nome_atleta</th><th scope=col>sexo</th><th scope=col>idade</th><th scope=col>altura</th><th scope=col>peso</th><th scope=col>esporte</th><th scope=col>evento</th><th scope=col>medalha</th></tr>\n",
              "\t<tr><th scope=col>&lt;int&gt;</th><th scope=col>&lt;chr&gt;</th><th scope=col>&lt;chr&gt;</th><th scope=col>&lt;chr&gt;</th><th scope=col>&lt;chr&gt;</th><th scope=col>&lt;chr&gt;</th><th scope=col>&lt;int&gt;</th><th scope=col>&lt;chr&gt;</th><th scope=col>&lt;chr&gt;</th><th scope=col>&lt;int&gt;</th><th scope=col>&lt;int&gt;</th><th scope=col>&lt;int&gt;</th><th scope=col>&lt;chr&gt;</th><th scope=col>&lt;chr&gt;</th><th scope=col>&lt;chr&gt;</th></tr>\n",
              "</thead>\n",
              "<tbody>\n",
              "\t<tr><td>1896</td><td>Summer</td><td>Athina</td><td>Australia</td><td>AUS</td><td>Australia              </td><td> 35698</td><td>Edwin Harold \"Teddy\" Flack</td><td>M</td><td>22</td><td>NA</td><td>NA</td><td>Athletics    </td><td>Athletics Men's 1,500 metres                          </td><td>Gold  </td></tr>\n",
              "\t<tr><td>1896</td><td>Summer</td><td>Athina</td><td>Australia</td><td>AUS</td><td>Australia              </td><td> 35698</td><td>Edwin Harold \"Teddy\" Flack</td><td>M</td><td>22</td><td>NA</td><td>NA</td><td>Athletics    </td><td>Athletics Men's 800 metres                            </td><td>Gold  </td></tr>\n",
              "\t<tr><td>1896</td><td>Summer</td><td>Athina</td><td>Australia</td><td>AUS</td><td>Australia              </td><td> 35698</td><td>Edwin Harold \"Teddy\" Flack</td><td>M</td><td>22</td><td>NA</td><td>NA</td><td>Athletics    </td><td>Athletics Men's Marathon                              </td><td>      </td></tr>\n",
              "\t<tr><td>1896</td><td>Summer</td><td>Athina</td><td>Australia</td><td>AUS</td><td>Australia/Great Britain</td><td> 35698</td><td>Edwin Harold \"Teddy\" Flack</td><td>M</td><td>22</td><td>NA</td><td>NA</td><td>Tennis       </td><td>Tennis Men's Doubles                                  </td><td>Bronze</td></tr>\n",
              "\t<tr><td>1896</td><td>Summer</td><td>Athina</td><td>Australia</td><td>AUS</td><td>Australia              </td><td> 35698</td><td>Edwin Harold \"Teddy\" Flack</td><td>M</td><td>22</td><td>NA</td><td>NA</td><td>Tennis       </td><td>Tennis Men's Singles                                  </td><td>      </td></tr>\n",
              "\t<tr><td>1896</td><td>Summer</td><td>Athina</td><td>Austria  </td><td>AUT</td><td>Austria                </td><td> 48195</td><td>Otto Herschmann           </td><td>M</td><td>19</td><td>NA</td><td>NA</td><td>Swimming     </td><td>Swimming Men's 100 metres Freestyle                   </td><td>Silver</td></tr>\n",
              "\t<tr><td>1896</td><td>Summer</td><td>Athina</td><td>Austria  </td><td>AUT</td><td>Austria                </td><td> 85477</td><td>Paul Neumann (-Newman)    </td><td>M</td><td>20</td><td>NA</td><td>NA</td><td>Swimming     </td><td>Swimming Men's 1,200 metres Freestyle                 </td><td>      </td></tr>\n",
              "\t<tr><td>1896</td><td>Summer</td><td>Athina</td><td>Austria  </td><td>AUT</td><td>Austria                </td><td> 85477</td><td>Paul Neumann (-Newman)    </td><td>M</td><td>20</td><td>NA</td><td>NA</td><td>Swimming     </td><td>Swimming Men's 500 metres Freestyle                   </td><td>Gold  </td></tr>\n",
              "\t<tr><td>1896</td><td>Summer</td><td>Athina</td><td>Austria  </td><td>AUT</td><td>Austria                </td><td>107006</td><td>Felix Adolf Schmal        </td><td>M</td><td>23</td><td>NA</td><td>NA</td><td>Cycling      </td><td>Cycling Men's 10,000 metres                           </td><td>Bronze</td></tr>\n",
              "\t<tr><td>1896</td><td>Summer</td><td>Athina</td><td>Austria  </td><td>AUT</td><td>Austria                </td><td>107006</td><td>Felix Adolf Schmal        </td><td>M</td><td>23</td><td>NA</td><td>NA</td><td>Cycling      </td><td>Cycling Men's 100 kilometres                          </td><td>      </td></tr>\n",
              "\t<tr><td>1896</td><td>Summer</td><td>Athina</td><td>Austria  </td><td>AUT</td><td>Austria                </td><td>107006</td><td>Felix Adolf Schmal        </td><td>M</td><td>23</td><td>NA</td><td>NA</td><td>Cycling      </td><td>Cycling Men's 12-Hours Race                           </td><td>Gold  </td></tr>\n",
              "\t<tr><td>1896</td><td>Summer</td><td>Athina</td><td>Austria  </td><td>AUT</td><td>Austria                </td><td>107006</td><td>Felix Adolf Schmal        </td><td>M</td><td>23</td><td>NA</td><td>NA</td><td>Cycling      </td><td>Cycling Men's 333 metres Time Trial                   </td><td>Bronze</td></tr>\n",
              "\t<tr><td>1896</td><td>Summer</td><td>Athina</td><td>Austria  </td><td>AUT</td><td>Austria                </td><td>107006</td><td>Felix Adolf Schmal        </td><td>M</td><td>23</td><td>NA</td><td>NA</td><td>Fencing      </td><td>Fencing Men's Sabre, Individual                       </td><td>      </td></tr>\n",
              "\t<tr><td>1896</td><td>Summer</td><td>Athina</td><td>Denmark  </td><td>DEN</td><td>Denmark                </td><td> 54456</td><td>Alexander Viggo Jensen    </td><td>M</td><td>21</td><td>NA</td><td>NA</td><td>Athletics    </td><td>Athletics Men's Discus Throw                          </td><td>      </td></tr>\n",
              "\t<tr><td>1896</td><td>Summer</td><td>Athina</td><td>Denmark  </td><td>DEN</td><td>Denmark                </td><td> 54456</td><td>Alexander Viggo Jensen    </td><td>M</td><td>21</td><td>NA</td><td>NA</td><td>Athletics    </td><td>Athletics Men's Shot Put                              </td><td>      </td></tr>\n",
              "\t<tr><td>1896</td><td>Summer</td><td>Athina</td><td>Denmark  </td><td>DEN</td><td>Denmark                </td><td> 54456</td><td>Alexander Viggo Jensen    </td><td>M</td><td>21</td><td>NA</td><td>NA</td><td>Gymnastics   </td><td>Gymnastics Men's Rope Climbing                        </td><td>      </td></tr>\n",
              "\t<tr><td>1896</td><td>Summer</td><td>Athina</td><td>Denmark  </td><td>DEN</td><td>Denmark                </td><td> 54456</td><td>Alexander Viggo Jensen    </td><td>M</td><td>21</td><td>NA</td><td>NA</td><td>Shooting     </td><td>Shooting Men's Free Rifle, Three Positions, 300 metres</td><td>Bronze</td></tr>\n",
              "\t<tr><td>1896</td><td>Summer</td><td>Athina</td><td>Denmark  </td><td>DEN</td><td>Denmark                </td><td> 54456</td><td>Alexander Viggo Jensen    </td><td>M</td><td>21</td><td>NA</td><td>NA</td><td>Shooting     </td><td>Shooting Men's Military Rifle, 200 metres             </td><td>      </td></tr>\n",
              "\t<tr><td>1896</td><td>Summer</td><td>Athina</td><td>Denmark  </td><td>DEN</td><td>Denmark                </td><td> 54456</td><td>Alexander Viggo Jensen    </td><td>M</td><td>21</td><td>NA</td><td>NA</td><td>Weightlifting</td><td>Weightlifting Men's Unlimited, One Hand               </td><td>Silver</td></tr>\n",
              "\t<tr><td>1896</td><td>Summer</td><td>Athina</td><td>Denmark  </td><td>DEN</td><td>Denmark                </td><td> 54456</td><td>Alexander Viggo Jensen    </td><td>M</td><td>21</td><td>NA</td><td>NA</td><td>Weightlifting</td><td>Weightlifting Men's Unlimited, Two Hands              </td><td>Gold  </td></tr>\n",
              "\t<tr><td>1896</td><td>Summer</td><td>Athina</td><td>Denmark  </td><td>DEN</td><td>Denmark                </td><td> 85988</td><td>Holger Louis Nielsen      </td><td>M</td><td>29</td><td>NA</td><td>NA</td><td>Athletics    </td><td>Athletics Men's Discus Throw                          </td><td>      </td></tr>\n",
              "\t<tr><td>1896</td><td>Summer</td><td>Athina</td><td>Denmark  </td><td>DEN</td><td>Denmark                </td><td> 85988</td><td>Holger Louis Nielsen      </td><td>M</td><td>29</td><td>NA</td><td>NA</td><td>Fencing      </td><td>Fencing Men's Sabre, Individual                       </td><td>Bronze</td></tr>\n",
              "\t<tr><td>1896</td><td>Summer</td><td>Athina</td><td>Denmark  </td><td>DEN</td><td>Denmark                </td><td> 85988</td><td>Holger Louis Nielsen      </td><td>M</td><td>29</td><td>NA</td><td>NA</td><td>Shooting     </td><td>Shooting Men's Free Pistol, 30 metres                 </td><td>Silver</td></tr>\n",
              "\t<tr><td>1896</td><td>Summer</td><td>Athina</td><td>Denmark  </td><td>DEN</td><td>Denmark                </td><td> 85988</td><td>Holger Louis Nielsen      </td><td>M</td><td>29</td><td>NA</td><td>NA</td><td>Shooting     </td><td>Shooting Men's Military Pistol, 25 metres             </td><td>      </td></tr>\n",
              "\t<tr><td>1896</td><td>Summer</td><td>Athina</td><td>Denmark  </td><td>DEN</td><td>Denmark                </td><td> 85988</td><td>Holger Louis Nielsen      </td><td>M</td><td>29</td><td>NA</td><td>NA</td><td>Shooting     </td><td>Shooting Men's Military Rifle, 200 metres             </td><td>      </td></tr>\n",
              "\t<tr><td>1896</td><td>Summer</td><td>Athina</td><td>Denmark  </td><td>DEN</td><td>Denmark                </td><td> 85988</td><td>Holger Louis Nielsen      </td><td>M</td><td>29</td><td>NA</td><td>NA</td><td>Shooting     </td><td>Shooting Men's Muzzle-Loading Pistol, 25 metres       </td><td>Bronze</td></tr>\n",
              "\t<tr><td>1896</td><td>Summer</td><td>Athina</td><td>Denmark  </td><td>DEN</td><td>Denmark                </td><td>107090</td><td>Eugen Stahl Schmidt       </td><td>M</td><td>34</td><td>NA</td><td>NA</td><td>Athletics    </td><td>Athletics Men's 100 metres                            </td><td>      </td></tr>\n",
              "\t<tr><td>1896</td><td>Summer</td><td>Athina</td><td>Denmark  </td><td>DEN</td><td>Denmark                </td><td>107090</td><td>Eugen Stahl Schmidt       </td><td>M</td><td>34</td><td>NA</td><td>NA</td><td>Shooting     </td><td>Shooting Men's Military Rifle, 200 metres             </td><td>      </td></tr>\n",
              "\t<tr><td>1896</td><td>Summer</td><td>Athina</td><td>France   </td><td>FRA</td><td>France                 </td><td> 17492</td><td>Eugne Henri Callot        </td><td>M</td><td>20</td><td>NA</td><td>NA</td><td>Fencing      </td><td>Fencing Men's Foil, Individual                        </td><td>Silver</td></tr>\n",
              "\t<tr><td>1896</td><td>Summer</td><td>Athina</td><td>France   </td><td>FRA</td><td>France                 </td><td> 26280</td><td>Georges Daviel de la Nzire</td><td>M</td><td>17</td><td>NA</td><td>NA</td><td>Athletics    </td><td>Athletics Men's 800 metres                            </td><td>      </td></tr>\n",
              "\t<tr><td>⋮</td><td>⋮</td><td>⋮</td><td>⋮</td><td>⋮</td><td>⋮</td><td>⋮</td><td>⋮</td><td>⋮</td><td>⋮</td><td>⋮</td><td>⋮</td><td>⋮</td><td>⋮</td><td>⋮</td></tr>\n",
              "\t<tr><td>2016</td><td>Summer</td><td>Rio de Janeiro</td><td></td><td>SGP</td><td>Singapore</td><td> 21132</td><td>Bei Fen Jovina Choo    </td><td>F</td><td>26</td><td>164</td><td>57</td><td>Sailing     </td><td>Sailing Women's Two Person Dinghy                            </td><td>    </td></tr>\n",
              "\t<tr><td>2016</td><td>Summer</td><td>Rio de Janeiro</td><td></td><td>SGP</td><td>Singapore</td><td> 34619</td><td>Feng Tian Wei          </td><td>F</td><td>29</td><td>163</td><td>55</td><td>Table Tennis</td><td>Table Tennis Women's Singles                                 </td><td>    </td></tr>\n",
              "\t<tr><td>2016</td><td>Summer</td><td>Rio de Janeiro</td><td></td><td>SGP</td><td>Singapore</td><td> 34619</td><td>Feng Tian Wei          </td><td>F</td><td>29</td><td>163</td><td>55</td><td>Table Tennis</td><td>Table Tennis Women's Team                                    </td><td>    </td></tr>\n",
              "\t<tr><td>2016</td><td>Summer</td><td>Rio de Janeiro</td><td></td><td>SGP</td><td>Singapore</td><td> 38418</td><td>Gao Ning               </td><td>M</td><td>33</td><td>179</td><td>80</td><td>Table Tennis</td><td>Table Tennis Men's Singles                                   </td><td>    </td></tr>\n",
              "\t<tr><td>2016</td><td>Summer</td><td>Rio de Janeiro</td><td></td><td>SGP</td><td>Singapore</td><td> 59330</td><td>Griselda Khng          </td><td>F</td><td>25</td><td>155</td><td>60</td><td>Sailing     </td><td>Sailing Women's Skiff                                        </td><td>    </td></tr>\n",
              "\t<tr><td>2016</td><td>Summer</td><td>Rio de Janeiro</td><td></td><td>SGP</td><td>Singapore</td><td> 69626</td><td>Liang Xiaoyu           </td><td>F</td><td>20</td><td>163</td><td>55</td><td>Badminton   </td><td>Badminton Women's Singles                                    </td><td>    </td></tr>\n",
              "\t<tr><td>2016</td><td>Summer</td><td>Rio de Janeiro</td><td></td><td>SGP</td><td>Singapore</td><td> 69895</td><td>Denise Lim             </td><td>F</td><td>24</td><td>155</td><td>57</td><td>Sailing     </td><td>Sailing Mixed Multihull                                      </td><td>    </td></tr>\n",
              "\t<tr><td>2016</td><td>Summer</td><td>Rio de Janeiro</td><td></td><td>SGP</td><td>Singapore</td><td> 70604</td><td>Justin Liu             </td><td>M</td><td>25</td><td>167</td><td>78</td><td>Sailing     </td><td>Sailing Mixed Multihull                                      </td><td>    </td></tr>\n",
              "\t<tr><td>2016</td><td>Summer</td><td>Rio de Janeiro</td><td></td><td>SGP</td><td>Singapore</td><td> 85313</td><td>Neo Jie Shi            </td><td>F</td><td>31</td><td>168</td><td>50</td><td>Athletics   </td><td>Athletics Women's Marathon                                   </td><td>    </td></tr>\n",
              "\t<tr><td>2016</td><td>Summer</td><td>Rio de Janeiro</td><td></td><td>SGP</td><td>Singapore</td><td> 85633</td><td>Ling Kai Amanda Ng     </td><td>F</td><td>22</td><td>170</td><td>58</td><td>Sailing     </td><td>Sailing Women's Two Person Dinghy                            </td><td>    </td></tr>\n",
              "\t<tr><td>2016</td><td>Summer</td><td>Rio de Janeiro</td><td></td><td>SGP</td><td>Singapore</td><td> 89153</td><td>Leonard Ong            </td><td>M</td><td>23</td><td>170</td><td>68</td><td>Sailing     </td><td>Sailing Men's Windsurfer                                     </td><td>    </td></tr>\n",
              "\t<tr><td>2016</td><td>Summer</td><td>Rio de Janeiro</td><td></td><td>SGP</td><td>Singapore</td><td> 97809</td><td>Quah Ting Wen          </td><td>F</td><td>23</td><td>175</td><td>60</td><td>Swimming    </td><td>Swimming Women's 100 metres Butterfly                        </td><td>    </td></tr>\n",
              "\t<tr><td>2016</td><td>Summer</td><td>Rio de Janeiro</td><td></td><td>SGP</td><td>Singapore</td><td> 97810</td><td>Quah Zheng Wen         </td><td>M</td><td>19</td><td>179</td><td>79</td><td>Swimming    </td><td>Swimming Men's 100 metres Backstroke                         </td><td>    </td></tr>\n",
              "\t<tr><td>2016</td><td>Summer</td><td>Rio de Janeiro</td><td></td><td>SGP</td><td>Singapore</td><td> 97810</td><td>Quah Zheng Wen         </td><td>M</td><td>19</td><td>179</td><td>79</td><td>Swimming    </td><td>Swimming Men's 100 metres Butterfly                          </td><td>    </td></tr>\n",
              "\t<tr><td>2016</td><td>Summer</td><td>Rio de Janeiro</td><td></td><td>SGP</td><td>Singapore</td><td> 97810</td><td>Quah Zheng Wen         </td><td>M</td><td>19</td><td>179</td><td>79</td><td>Swimming    </td><td>Swimming Men's 200 metres Butterfly                          </td><td>    </td></tr>\n",
              "\t<tr><td>2016</td><td>Summer</td><td>Rio de Janeiro</td><td></td><td>SGP</td><td>Singapore</td><td>107436</td><td>Joseph Isaac Schooling </td><td>M</td><td>21</td><td>184</td><td>74</td><td>Swimming    </td><td>Swimming Men's 100 metres Butterfly                          </td><td>Gold</td></tr>\n",
              "\t<tr><td>2016</td><td>Summer</td><td>Rio de Janeiro</td><td></td><td>SGP</td><td>Singapore</td><td>107436</td><td>Joseph Isaac Schooling </td><td>M</td><td>21</td><td>184</td><td>74</td><td>Swimming    </td><td>Swimming Men's 100 metres Freestyle                          </td><td>    </td></tr>\n",
              "\t<tr><td>2016</td><td>Summer</td><td>Rio de Janeiro</td><td></td><td>SGP</td><td>Singapore</td><td>108760</td><td>Xiang Wei \"Jasmine\" Ser</td><td>F</td><td>25</td><td>155</td><td>47</td><td>Shooting    </td><td>Shooting Women's Air Rifle, 10 metres                        </td><td>    </td></tr>\n",
              "\t<tr><td>2016</td><td>Summer</td><td>Rio de Janeiro</td><td></td><td>SGP</td><td>Singapore</td><td>108760</td><td>Xiang Wei \"Jasmine\" Ser</td><td>F</td><td>25</td><td>155</td><td>47</td><td>Shooting    </td><td>Shooting Women's Small-Bore Rifle, Three Positions, 50 metres</td><td>    </td></tr>\n",
              "\t<tr><td>2016</td><td>Summer</td><td>Rio de Janeiro</td><td></td><td>SGP</td><td>Singapore</td><td>118281</td><td>Li Ching Sara Tan      </td><td>F</td><td>25</td><td>171</td><td>71</td><td>Sailing     </td><td>Sailing Women's Skiff                                        </td><td>    </td></tr>\n",
              "\t<tr><td>2016</td><td>Summer</td><td>Rio de Janeiro</td><td></td><td>SGP</td><td>Singapore</td><td>119191</td><td>Teo Shun Xie           </td><td>F</td><td>27</td><td>168</td><td>63</td><td>Shooting    </td><td>Shooting Women's Air Pistol, 10 metres                       </td><td>    </td></tr>\n",
              "\t<tr><td>2016</td><td>Summer</td><td>Rio de Janeiro</td><td></td><td>SGP</td><td>Singapore</td><td>119191</td><td>Teo Shun Xie           </td><td>F</td><td>27</td><td>168</td><td>63</td><td>Shooting    </td><td>Shooting Women's Sporting Pistol, 25 metres                  </td><td>    </td></tr>\n",
              "\t<tr><td>2016</td><td>Summer</td><td>Rio de Janeiro</td><td></td><td>SGP</td><td>Singapore</td><td>131420</td><td>Zi Liang \"Derek\" Wong  </td><td>M</td><td>27</td><td>176</td><td>69</td><td>Badminton   </td><td>Badminton Men's Singles                                      </td><td>    </td></tr>\n",
              "\t<tr><td>2016</td><td>Summer</td><td>Rio de Janeiro</td><td></td><td>SGP</td><td>Singapore</td><td>132637</td><td>Jin Wei \"Timothee\" Yap </td><td>M</td><td>21</td><td>178</td><td>66</td><td>Athletics   </td><td>Athletics Men's 100 metres                                   </td><td>    </td></tr>\n",
              "\t<tr><td>2016</td><td>Summer</td><td>Rio de Janeiro</td><td></td><td>SGP</td><td>Singapore</td><td>132986</td><td>Yin Yue \"Elizabeth\" Yin</td><td>F</td><td>24</td><td>167</td><td>70</td><td>Sailing     </td><td>Sailing Women's One Person Dinghy                            </td><td>    </td></tr>\n",
              "\t<tr><td>2016</td><td>Summer</td><td>Rio de Janeiro</td><td></td><td>SGP</td><td>Singapore</td><td>133071</td><td>Pei Lin \"Audrey\" Yong  </td><td>F</td><td>21</td><td>156</td><td>50</td><td>Sailing     </td><td>Sailing Women's Windsurfer                                   </td><td>    </td></tr>\n",
              "\t<tr><td>2016</td><td>Summer</td><td>Rio de Janeiro</td><td></td><td>SGP</td><td>Singapore</td><td>133346</td><td>Yu Mengyu              </td><td>F</td><td>26</td><td>166</td><td>50</td><td>Table Tennis</td><td>Table Tennis Women's Singles                                 </td><td>    </td></tr>\n",
              "\t<tr><td>2016</td><td>Summer</td><td>Rio de Janeiro</td><td></td><td>SGP</td><td>Singapore</td><td>133346</td><td>Yu Mengyu              </td><td>F</td><td>26</td><td>166</td><td>50</td><td>Table Tennis</td><td>Table Tennis Women's Team                                    </td><td>    </td></tr>\n",
              "\t<tr><td>2016</td><td>Summer</td><td>Rio de Janeiro</td><td></td><td>SGP</td><td>Singapore</td><td>134826</td><td>Zhou Yihan             </td><td>F</td><td>22</td><td>168</td><td>54</td><td>Table Tennis</td><td>Table Tennis Women's Team                                    </td><td>    </td></tr>\n",
              "\t<tr><td>2016</td><td>Summer</td><td>Rio de Janeiro</td><td></td><td>TUV</td><td>Tuvalu   </td><td>120422</td><td>Etimoni Timuani        </td><td>M</td><td>24</td><td>184</td><td>72</td><td>Athletics   </td><td>Athletics Men's 100 metres                                   </td><td>    </td></tr>\n",
              "</tbody>\n",
              "</table>\n"
            ],
            "text/markdown": "\nA data.frame: 269718 × 15\n\n| ano &lt;int&gt; | edicao &lt;chr&gt; | cidade_sede &lt;chr&gt; | pais &lt;chr&gt; | delegacao &lt;chr&gt; | equipe &lt;chr&gt; | id_atleta &lt;int&gt; | nome_atleta &lt;chr&gt; | sexo &lt;chr&gt; | idade &lt;int&gt; | altura &lt;int&gt; | peso &lt;int&gt; | esporte &lt;chr&gt; | evento &lt;chr&gt; | medalha &lt;chr&gt; |\n|---|---|---|---|---|---|---|---|---|---|---|---|---|---|---|\n| 1896 | Summer | Athina | Australia | AUS | Australia               |  35698 | Edwin Harold \"Teddy\" Flack | M | 22 | NA | NA | Athletics     | Athletics Men's 1,500 metres                           | Gold   |\n| 1896 | Summer | Athina | Australia | AUS | Australia               |  35698 | Edwin Harold \"Teddy\" Flack | M | 22 | NA | NA | Athletics     | Athletics Men's 800 metres                             | Gold   |\n| 1896 | Summer | Athina | Australia | AUS | Australia               |  35698 | Edwin Harold \"Teddy\" Flack | M | 22 | NA | NA | Athletics     | Athletics Men's Marathon                               | <!----> |\n| 1896 | Summer | Athina | Australia | AUS | Australia/Great Britain |  35698 | Edwin Harold \"Teddy\" Flack | M | 22 | NA | NA | Tennis        | Tennis Men's Doubles                                   | Bronze |\n| 1896 | Summer | Athina | Australia | AUS | Australia               |  35698 | Edwin Harold \"Teddy\" Flack | M | 22 | NA | NA | Tennis        | Tennis Men's Singles                                   | <!----> |\n| 1896 | Summer | Athina | Austria   | AUT | Austria                 |  48195 | Otto Herschmann            | M | 19 | NA | NA | Swimming      | Swimming Men's 100 metres Freestyle                    | Silver |\n| 1896 | Summer | Athina | Austria   | AUT | Austria                 |  85477 | Paul Neumann (-Newman)     | M | 20 | NA | NA | Swimming      | Swimming Men's 1,200 metres Freestyle                  | <!----> |\n| 1896 | Summer | Athina | Austria   | AUT | Austria                 |  85477 | Paul Neumann (-Newman)     | M | 20 | NA | NA | Swimming      | Swimming Men's 500 metres Freestyle                    | Gold   |\n| 1896 | Summer | Athina | Austria   | AUT | Austria                 | 107006 | Felix Adolf Schmal         | M | 23 | NA | NA | Cycling       | Cycling Men's 10,000 metres                            | Bronze |\n| 1896 | Summer | Athina | Austria   | AUT | Austria                 | 107006 | Felix Adolf Schmal         | M | 23 | NA | NA | Cycling       | Cycling Men's 100 kilometres                           | <!----> |\n| 1896 | Summer | Athina | Austria   | AUT | Austria                 | 107006 | Felix Adolf Schmal         | M | 23 | NA | NA | Cycling       | Cycling Men's 12-Hours Race                            | Gold   |\n| 1896 | Summer | Athina | Austria   | AUT | Austria                 | 107006 | Felix Adolf Schmal         | M | 23 | NA | NA | Cycling       | Cycling Men's 333 metres Time Trial                    | Bronze |\n| 1896 | Summer | Athina | Austria   | AUT | Austria                 | 107006 | Felix Adolf Schmal         | M | 23 | NA | NA | Fencing       | Fencing Men's Sabre, Individual                        | <!----> |\n| 1896 | Summer | Athina | Denmark   | DEN | Denmark                 |  54456 | Alexander Viggo Jensen     | M | 21 | NA | NA | Athletics     | Athletics Men's Discus Throw                           | <!----> |\n| 1896 | Summer | Athina | Denmark   | DEN | Denmark                 |  54456 | Alexander Viggo Jensen     | M | 21 | NA | NA | Athletics     | Athletics Men's Shot Put                               | <!----> |\n| 1896 | Summer | Athina | Denmark   | DEN | Denmark                 |  54456 | Alexander Viggo Jensen     | M | 21 | NA | NA | Gymnastics    | Gymnastics Men's Rope Climbing                         | <!----> |\n| 1896 | Summer | Athina | Denmark   | DEN | Denmark                 |  54456 | Alexander Viggo Jensen     | M | 21 | NA | NA | Shooting      | Shooting Men's Free Rifle, Three Positions, 300 metres | Bronze |\n| 1896 | Summer | Athina | Denmark   | DEN | Denmark                 |  54456 | Alexander Viggo Jensen     | M | 21 | NA | NA | Shooting      | Shooting Men's Military Rifle, 200 metres              | <!----> |\n| 1896 | Summer | Athina | Denmark   | DEN | Denmark                 |  54456 | Alexander Viggo Jensen     | M | 21 | NA | NA | Weightlifting | Weightlifting Men's Unlimited, One Hand                | Silver |\n| 1896 | Summer | Athina | Denmark   | DEN | Denmark                 |  54456 | Alexander Viggo Jensen     | M | 21 | NA | NA | Weightlifting | Weightlifting Men's Unlimited, Two Hands               | Gold   |\n| 1896 | Summer | Athina | Denmark   | DEN | Denmark                 |  85988 | Holger Louis Nielsen       | M | 29 | NA | NA | Athletics     | Athletics Men's Discus Throw                           | <!----> |\n| 1896 | Summer | Athina | Denmark   | DEN | Denmark                 |  85988 | Holger Louis Nielsen       | M | 29 | NA | NA | Fencing       | Fencing Men's Sabre, Individual                        | Bronze |\n| 1896 | Summer | Athina | Denmark   | DEN | Denmark                 |  85988 | Holger Louis Nielsen       | M | 29 | NA | NA | Shooting      | Shooting Men's Free Pistol, 30 metres                  | Silver |\n| 1896 | Summer | Athina | Denmark   | DEN | Denmark                 |  85988 | Holger Louis Nielsen       | M | 29 | NA | NA | Shooting      | Shooting Men's Military Pistol, 25 metres              | <!----> |\n| 1896 | Summer | Athina | Denmark   | DEN | Denmark                 |  85988 | Holger Louis Nielsen       | M | 29 | NA | NA | Shooting      | Shooting Men's Military Rifle, 200 metres              | <!----> |\n| 1896 | Summer | Athina | Denmark   | DEN | Denmark                 |  85988 | Holger Louis Nielsen       | M | 29 | NA | NA | Shooting      | Shooting Men's Muzzle-Loading Pistol, 25 metres        | Bronze |\n| 1896 | Summer | Athina | Denmark   | DEN | Denmark                 | 107090 | Eugen Stahl Schmidt        | M | 34 | NA | NA | Athletics     | Athletics Men's 100 metres                             | <!----> |\n| 1896 | Summer | Athina | Denmark   | DEN | Denmark                 | 107090 | Eugen Stahl Schmidt        | M | 34 | NA | NA | Shooting      | Shooting Men's Military Rifle, 200 metres              | <!----> |\n| 1896 | Summer | Athina | France    | FRA | France                  |  17492 | Eugne Henri Callot         | M | 20 | NA | NA | Fencing       | Fencing Men's Foil, Individual                         | Silver |\n| 1896 | Summer | Athina | France    | FRA | France                  |  26280 | Georges Daviel de la Nzire | M | 17 | NA | NA | Athletics     | Athletics Men's 800 metres                             | <!----> |\n| ⋮ | ⋮ | ⋮ | ⋮ | ⋮ | ⋮ | ⋮ | ⋮ | ⋮ | ⋮ | ⋮ | ⋮ | ⋮ | ⋮ | ⋮ |\n| 2016 | Summer | Rio de Janeiro | <!----> | SGP | Singapore |  21132 | Bei Fen Jovina Choo     | F | 26 | 164 | 57 | Sailing      | Sailing Women's Two Person Dinghy                             | <!----> |\n| 2016 | Summer | Rio de Janeiro | <!----> | SGP | Singapore |  34619 | Feng Tian Wei           | F | 29 | 163 | 55 | Table Tennis | Table Tennis Women's Singles                                  | <!----> |\n| 2016 | Summer | Rio de Janeiro | <!----> | SGP | Singapore |  34619 | Feng Tian Wei           | F | 29 | 163 | 55 | Table Tennis | Table Tennis Women's Team                                     | <!----> |\n| 2016 | Summer | Rio de Janeiro | <!----> | SGP | Singapore |  38418 | Gao Ning                | M | 33 | 179 | 80 | Table Tennis | Table Tennis Men's Singles                                    | <!----> |\n| 2016 | Summer | Rio de Janeiro | <!----> | SGP | Singapore |  59330 | Griselda Khng           | F | 25 | 155 | 60 | Sailing      | Sailing Women's Skiff                                         | <!----> |\n| 2016 | Summer | Rio de Janeiro | <!----> | SGP | Singapore |  69626 | Liang Xiaoyu            | F | 20 | 163 | 55 | Badminton    | Badminton Women's Singles                                     | <!----> |\n| 2016 | Summer | Rio de Janeiro | <!----> | SGP | Singapore |  69895 | Denise Lim              | F | 24 | 155 | 57 | Sailing      | Sailing Mixed Multihull                                       | <!----> |\n| 2016 | Summer | Rio de Janeiro | <!----> | SGP | Singapore |  70604 | Justin Liu              | M | 25 | 167 | 78 | Sailing      | Sailing Mixed Multihull                                       | <!----> |\n| 2016 | Summer | Rio de Janeiro | <!----> | SGP | Singapore |  85313 | Neo Jie Shi             | F | 31 | 168 | 50 | Athletics    | Athletics Women's Marathon                                    | <!----> |\n| 2016 | Summer | Rio de Janeiro | <!----> | SGP | Singapore |  85633 | Ling Kai Amanda Ng      | F | 22 | 170 | 58 | Sailing      | Sailing Women's Two Person Dinghy                             | <!----> |\n| 2016 | Summer | Rio de Janeiro | <!----> | SGP | Singapore |  89153 | Leonard Ong             | M | 23 | 170 | 68 | Sailing      | Sailing Men's Windsurfer                                      | <!----> |\n| 2016 | Summer | Rio de Janeiro | <!----> | SGP | Singapore |  97809 | Quah Ting Wen           | F | 23 | 175 | 60 | Swimming     | Swimming Women's 100 metres Butterfly                         | <!----> |\n| 2016 | Summer | Rio de Janeiro | <!----> | SGP | Singapore |  97810 | Quah Zheng Wen          | M | 19 | 179 | 79 | Swimming     | Swimming Men's 100 metres Backstroke                          | <!----> |\n| 2016 | Summer | Rio de Janeiro | <!----> | SGP | Singapore |  97810 | Quah Zheng Wen          | M | 19 | 179 | 79 | Swimming     | Swimming Men's 100 metres Butterfly                           | <!----> |\n| 2016 | Summer | Rio de Janeiro | <!----> | SGP | Singapore |  97810 | Quah Zheng Wen          | M | 19 | 179 | 79 | Swimming     | Swimming Men's 200 metres Butterfly                           | <!----> |\n| 2016 | Summer | Rio de Janeiro | <!----> | SGP | Singapore | 107436 | Joseph Isaac Schooling  | M | 21 | 184 | 74 | Swimming     | Swimming Men's 100 metres Butterfly                           | Gold |\n| 2016 | Summer | Rio de Janeiro | <!----> | SGP | Singapore | 107436 | Joseph Isaac Schooling  | M | 21 | 184 | 74 | Swimming     | Swimming Men's 100 metres Freestyle                           | <!----> |\n| 2016 | Summer | Rio de Janeiro | <!----> | SGP | Singapore | 108760 | Xiang Wei \"Jasmine\" Ser | F | 25 | 155 | 47 | Shooting     | Shooting Women's Air Rifle, 10 metres                         | <!----> |\n| 2016 | Summer | Rio de Janeiro | <!----> | SGP | Singapore | 108760 | Xiang Wei \"Jasmine\" Ser | F | 25 | 155 | 47 | Shooting     | Shooting Women's Small-Bore Rifle, Three Positions, 50 metres | <!----> |\n| 2016 | Summer | Rio de Janeiro | <!----> | SGP | Singapore | 118281 | Li Ching Sara Tan       | F | 25 | 171 | 71 | Sailing      | Sailing Women's Skiff                                         | <!----> |\n| 2016 | Summer | Rio de Janeiro | <!----> | SGP | Singapore | 119191 | Teo Shun Xie            | F | 27 | 168 | 63 | Shooting     | Shooting Women's Air Pistol, 10 metres                        | <!----> |\n| 2016 | Summer | Rio de Janeiro | <!----> | SGP | Singapore | 119191 | Teo Shun Xie            | F | 27 | 168 | 63 | Shooting     | Shooting Women's Sporting Pistol, 25 metres                   | <!----> |\n| 2016 | Summer | Rio de Janeiro | <!----> | SGP | Singapore | 131420 | Zi Liang \"Derek\" Wong   | M | 27 | 176 | 69 | Badminton    | Badminton Men's Singles                                       | <!----> |\n| 2016 | Summer | Rio de Janeiro | <!----> | SGP | Singapore | 132637 | Jin Wei \"Timothee\" Yap  | M | 21 | 178 | 66 | Athletics    | Athletics Men's 100 metres                                    | <!----> |\n| 2016 | Summer | Rio de Janeiro | <!----> | SGP | Singapore | 132986 | Yin Yue \"Elizabeth\" Yin | F | 24 | 167 | 70 | Sailing      | Sailing Women's One Person Dinghy                             | <!----> |\n| 2016 | Summer | Rio de Janeiro | <!----> | SGP | Singapore | 133071 | Pei Lin \"Audrey\" Yong   | F | 21 | 156 | 50 | Sailing      | Sailing Women's Windsurfer                                    | <!----> |\n| 2016 | Summer | Rio de Janeiro | <!----> | SGP | Singapore | 133346 | Yu Mengyu               | F | 26 | 166 | 50 | Table Tennis | Table Tennis Women's Singles                                  | <!----> |\n| 2016 | Summer | Rio de Janeiro | <!----> | SGP | Singapore | 133346 | Yu Mengyu               | F | 26 | 166 | 50 | Table Tennis | Table Tennis Women's Team                                     | <!----> |\n| 2016 | Summer | Rio de Janeiro | <!----> | SGP | Singapore | 134826 | Zhou Yihan              | F | 22 | 168 | 54 | Table Tennis | Table Tennis Women's Team                                     | <!----> |\n| 2016 | Summer | Rio de Janeiro | <!----> | TUV | Tuvalu    | 120422 | Etimoni Timuani         | M | 24 | 184 | 72 | Athletics    | Athletics Men's 100 metres                                    | <!----> |\n\n",
            "text/latex": "A data.frame: 269718 × 15\n\\begin{tabular}{lllllllllllllll}\n ano & edicao & cidade\\_sede & pais & delegacao & equipe & id\\_atleta & nome\\_atleta & sexo & idade & altura & peso & esporte & evento & medalha\\\\\n <int> & <chr> & <chr> & <chr> & <chr> & <chr> & <int> & <chr> & <chr> & <int> & <int> & <int> & <chr> & <chr> & <chr>\\\\\n\\hline\n\t 1896 & Summer & Athina & Australia & AUS & Australia               &  35698 & Edwin Harold \"Teddy\" Flack & M & 22 & NA & NA & Athletics     & Athletics Men's 1,500 metres                           & Gold  \\\\\n\t 1896 & Summer & Athina & Australia & AUS & Australia               &  35698 & Edwin Harold \"Teddy\" Flack & M & 22 & NA & NA & Athletics     & Athletics Men's 800 metres                             & Gold  \\\\\n\t 1896 & Summer & Athina & Australia & AUS & Australia               &  35698 & Edwin Harold \"Teddy\" Flack & M & 22 & NA & NA & Athletics     & Athletics Men's Marathon                               &       \\\\\n\t 1896 & Summer & Athina & Australia & AUS & Australia/Great Britain &  35698 & Edwin Harold \"Teddy\" Flack & M & 22 & NA & NA & Tennis        & Tennis Men's Doubles                                   & Bronze\\\\\n\t 1896 & Summer & Athina & Australia & AUS & Australia               &  35698 & Edwin Harold \"Teddy\" Flack & M & 22 & NA & NA & Tennis        & Tennis Men's Singles                                   &       \\\\\n\t 1896 & Summer & Athina & Austria   & AUT & Austria                 &  48195 & Otto Herschmann            & M & 19 & NA & NA & Swimming      & Swimming Men's 100 metres Freestyle                    & Silver\\\\\n\t 1896 & Summer & Athina & Austria   & AUT & Austria                 &  85477 & Paul Neumann (-Newman)     & M & 20 & NA & NA & Swimming      & Swimming Men's 1,200 metres Freestyle                  &       \\\\\n\t 1896 & Summer & Athina & Austria   & AUT & Austria                 &  85477 & Paul Neumann (-Newman)     & M & 20 & NA & NA & Swimming      & Swimming Men's 500 metres Freestyle                    & Gold  \\\\\n\t 1896 & Summer & Athina & Austria   & AUT & Austria                 & 107006 & Felix Adolf Schmal         & M & 23 & NA & NA & Cycling       & Cycling Men's 10,000 metres                            & Bronze\\\\\n\t 1896 & Summer & Athina & Austria   & AUT & Austria                 & 107006 & Felix Adolf Schmal         & M & 23 & NA & NA & Cycling       & Cycling Men's 100 kilometres                           &       \\\\\n\t 1896 & Summer & Athina & Austria   & AUT & Austria                 & 107006 & Felix Adolf Schmal         & M & 23 & NA & NA & Cycling       & Cycling Men's 12-Hours Race                            & Gold  \\\\\n\t 1896 & Summer & Athina & Austria   & AUT & Austria                 & 107006 & Felix Adolf Schmal         & M & 23 & NA & NA & Cycling       & Cycling Men's 333 metres Time Trial                    & Bronze\\\\\n\t 1896 & Summer & Athina & Austria   & AUT & Austria                 & 107006 & Felix Adolf Schmal         & M & 23 & NA & NA & Fencing       & Fencing Men's Sabre, Individual                        &       \\\\\n\t 1896 & Summer & Athina & Denmark   & DEN & Denmark                 &  54456 & Alexander Viggo Jensen     & M & 21 & NA & NA & Athletics     & Athletics Men's Discus Throw                           &       \\\\\n\t 1896 & Summer & Athina & Denmark   & DEN & Denmark                 &  54456 & Alexander Viggo Jensen     & M & 21 & NA & NA & Athletics     & Athletics Men's Shot Put                               &       \\\\\n\t 1896 & Summer & Athina & Denmark   & DEN & Denmark                 &  54456 & Alexander Viggo Jensen     & M & 21 & NA & NA & Gymnastics    & Gymnastics Men's Rope Climbing                         &       \\\\\n\t 1896 & Summer & Athina & Denmark   & DEN & Denmark                 &  54456 & Alexander Viggo Jensen     & M & 21 & NA & NA & Shooting      & Shooting Men's Free Rifle, Three Positions, 300 metres & Bronze\\\\\n\t 1896 & Summer & Athina & Denmark   & DEN & Denmark                 &  54456 & Alexander Viggo Jensen     & M & 21 & NA & NA & Shooting      & Shooting Men's Military Rifle, 200 metres              &       \\\\\n\t 1896 & Summer & Athina & Denmark   & DEN & Denmark                 &  54456 & Alexander Viggo Jensen     & M & 21 & NA & NA & Weightlifting & Weightlifting Men's Unlimited, One Hand                & Silver\\\\\n\t 1896 & Summer & Athina & Denmark   & DEN & Denmark                 &  54456 & Alexander Viggo Jensen     & M & 21 & NA & NA & Weightlifting & Weightlifting Men's Unlimited, Two Hands               & Gold  \\\\\n\t 1896 & Summer & Athina & Denmark   & DEN & Denmark                 &  85988 & Holger Louis Nielsen       & M & 29 & NA & NA & Athletics     & Athletics Men's Discus Throw                           &       \\\\\n\t 1896 & Summer & Athina & Denmark   & DEN & Denmark                 &  85988 & Holger Louis Nielsen       & M & 29 & NA & NA & Fencing       & Fencing Men's Sabre, Individual                        & Bronze\\\\\n\t 1896 & Summer & Athina & Denmark   & DEN & Denmark                 &  85988 & Holger Louis Nielsen       & M & 29 & NA & NA & Shooting      & Shooting Men's Free Pistol, 30 metres                  & Silver\\\\\n\t 1896 & Summer & Athina & Denmark   & DEN & Denmark                 &  85988 & Holger Louis Nielsen       & M & 29 & NA & NA & Shooting      & Shooting Men's Military Pistol, 25 metres              &       \\\\\n\t 1896 & Summer & Athina & Denmark   & DEN & Denmark                 &  85988 & Holger Louis Nielsen       & M & 29 & NA & NA & Shooting      & Shooting Men's Military Rifle, 200 metres              &       \\\\\n\t 1896 & Summer & Athina & Denmark   & DEN & Denmark                 &  85988 & Holger Louis Nielsen       & M & 29 & NA & NA & Shooting      & Shooting Men's Muzzle-Loading Pistol, 25 metres        & Bronze\\\\\n\t 1896 & Summer & Athina & Denmark   & DEN & Denmark                 & 107090 & Eugen Stahl Schmidt        & M & 34 & NA & NA & Athletics     & Athletics Men's 100 metres                             &       \\\\\n\t 1896 & Summer & Athina & Denmark   & DEN & Denmark                 & 107090 & Eugen Stahl Schmidt        & M & 34 & NA & NA & Shooting      & Shooting Men's Military Rifle, 200 metres              &       \\\\\n\t 1896 & Summer & Athina & France    & FRA & France                  &  17492 & Eugne Henri Callot         & M & 20 & NA & NA & Fencing       & Fencing Men's Foil, Individual                         & Silver\\\\\n\t 1896 & Summer & Athina & France    & FRA & France                  &  26280 & Georges Daviel de la Nzire & M & 17 & NA & NA & Athletics     & Athletics Men's 800 metres                             &       \\\\\n\t ⋮ & ⋮ & ⋮ & ⋮ & ⋮ & ⋮ & ⋮ & ⋮ & ⋮ & ⋮ & ⋮ & ⋮ & ⋮ & ⋮ & ⋮\\\\\n\t 2016 & Summer & Rio de Janeiro &  & SGP & Singapore &  21132 & Bei Fen Jovina Choo     & F & 26 & 164 & 57 & Sailing      & Sailing Women's Two Person Dinghy                             &     \\\\\n\t 2016 & Summer & Rio de Janeiro &  & SGP & Singapore &  34619 & Feng Tian Wei           & F & 29 & 163 & 55 & Table Tennis & Table Tennis Women's Singles                                  &     \\\\\n\t 2016 & Summer & Rio de Janeiro &  & SGP & Singapore &  34619 & Feng Tian Wei           & F & 29 & 163 & 55 & Table Tennis & Table Tennis Women's Team                                     &     \\\\\n\t 2016 & Summer & Rio de Janeiro &  & SGP & Singapore &  38418 & Gao Ning                & M & 33 & 179 & 80 & Table Tennis & Table Tennis Men's Singles                                    &     \\\\\n\t 2016 & Summer & Rio de Janeiro &  & SGP & Singapore &  59330 & Griselda Khng           & F & 25 & 155 & 60 & Sailing      & Sailing Women's Skiff                                         &     \\\\\n\t 2016 & Summer & Rio de Janeiro &  & SGP & Singapore &  69626 & Liang Xiaoyu            & F & 20 & 163 & 55 & Badminton    & Badminton Women's Singles                                     &     \\\\\n\t 2016 & Summer & Rio de Janeiro &  & SGP & Singapore &  69895 & Denise Lim              & F & 24 & 155 & 57 & Sailing      & Sailing Mixed Multihull                                       &     \\\\\n\t 2016 & Summer & Rio de Janeiro &  & SGP & Singapore &  70604 & Justin Liu              & M & 25 & 167 & 78 & Sailing      & Sailing Mixed Multihull                                       &     \\\\\n\t 2016 & Summer & Rio de Janeiro &  & SGP & Singapore &  85313 & Neo Jie Shi             & F & 31 & 168 & 50 & Athletics    & Athletics Women's Marathon                                    &     \\\\\n\t 2016 & Summer & Rio de Janeiro &  & SGP & Singapore &  85633 & Ling Kai Amanda Ng      & F & 22 & 170 & 58 & Sailing      & Sailing Women's Two Person Dinghy                             &     \\\\\n\t 2016 & Summer & Rio de Janeiro &  & SGP & Singapore &  89153 & Leonard Ong             & M & 23 & 170 & 68 & Sailing      & Sailing Men's Windsurfer                                      &     \\\\\n\t 2016 & Summer & Rio de Janeiro &  & SGP & Singapore &  97809 & Quah Ting Wen           & F & 23 & 175 & 60 & Swimming     & Swimming Women's 100 metres Butterfly                         &     \\\\\n\t 2016 & Summer & Rio de Janeiro &  & SGP & Singapore &  97810 & Quah Zheng Wen          & M & 19 & 179 & 79 & Swimming     & Swimming Men's 100 metres Backstroke                          &     \\\\\n\t 2016 & Summer & Rio de Janeiro &  & SGP & Singapore &  97810 & Quah Zheng Wen          & M & 19 & 179 & 79 & Swimming     & Swimming Men's 100 metres Butterfly                           &     \\\\\n\t 2016 & Summer & Rio de Janeiro &  & SGP & Singapore &  97810 & Quah Zheng Wen          & M & 19 & 179 & 79 & Swimming     & Swimming Men's 200 metres Butterfly                           &     \\\\\n\t 2016 & Summer & Rio de Janeiro &  & SGP & Singapore & 107436 & Joseph Isaac Schooling  & M & 21 & 184 & 74 & Swimming     & Swimming Men's 100 metres Butterfly                           & Gold\\\\\n\t 2016 & Summer & Rio de Janeiro &  & SGP & Singapore & 107436 & Joseph Isaac Schooling  & M & 21 & 184 & 74 & Swimming     & Swimming Men's 100 metres Freestyle                           &     \\\\\n\t 2016 & Summer & Rio de Janeiro &  & SGP & Singapore & 108760 & Xiang Wei \"Jasmine\" Ser & F & 25 & 155 & 47 & Shooting     & Shooting Women's Air Rifle, 10 metres                         &     \\\\\n\t 2016 & Summer & Rio de Janeiro &  & SGP & Singapore & 108760 & Xiang Wei \"Jasmine\" Ser & F & 25 & 155 & 47 & Shooting     & Shooting Women's Small-Bore Rifle, Three Positions, 50 metres &     \\\\\n\t 2016 & Summer & Rio de Janeiro &  & SGP & Singapore & 118281 & Li Ching Sara Tan       & F & 25 & 171 & 71 & Sailing      & Sailing Women's Skiff                                         &     \\\\\n\t 2016 & Summer & Rio de Janeiro &  & SGP & Singapore & 119191 & Teo Shun Xie            & F & 27 & 168 & 63 & Shooting     & Shooting Women's Air Pistol, 10 metres                        &     \\\\\n\t 2016 & Summer & Rio de Janeiro &  & SGP & Singapore & 119191 & Teo Shun Xie            & F & 27 & 168 & 63 & Shooting     & Shooting Women's Sporting Pistol, 25 metres                   &     \\\\\n\t 2016 & Summer & Rio de Janeiro &  & SGP & Singapore & 131420 & Zi Liang \"Derek\" Wong   & M & 27 & 176 & 69 & Badminton    & Badminton Men's Singles                                       &     \\\\\n\t 2016 & Summer & Rio de Janeiro &  & SGP & Singapore & 132637 & Jin Wei \"Timothee\" Yap  & M & 21 & 178 & 66 & Athletics    & Athletics Men's 100 metres                                    &     \\\\\n\t 2016 & Summer & Rio de Janeiro &  & SGP & Singapore & 132986 & Yin Yue \"Elizabeth\" Yin & F & 24 & 167 & 70 & Sailing      & Sailing Women's One Person Dinghy                             &     \\\\\n\t 2016 & Summer & Rio de Janeiro &  & SGP & Singapore & 133071 & Pei Lin \"Audrey\" Yong   & F & 21 & 156 & 50 & Sailing      & Sailing Women's Windsurfer                                    &     \\\\\n\t 2016 & Summer & Rio de Janeiro &  & SGP & Singapore & 133346 & Yu Mengyu               & F & 26 & 166 & 50 & Table Tennis & Table Tennis Women's Singles                                  &     \\\\\n\t 2016 & Summer & Rio de Janeiro &  & SGP & Singapore & 133346 & Yu Mengyu               & F & 26 & 166 & 50 & Table Tennis & Table Tennis Women's Team                                     &     \\\\\n\t 2016 & Summer & Rio de Janeiro &  & SGP & Singapore & 134826 & Zhou Yihan              & F & 22 & 168 & 54 & Table Tennis & Table Tennis Women's Team                                     &     \\\\\n\t 2016 & Summer & Rio de Janeiro &  & TUV & Tuvalu    & 120422 & Etimoni Timuani         & M & 24 & 184 & 72 & Athletics    & Athletics Men's 100 metres                                    &     \\\\\n\\end{tabular}\n",
            "text/plain": [
              "       ano  edicao cidade_sede    pais      delegacao equipe                 \n",
              "1      1896 Summer Athina         Australia AUS       Australia              \n",
              "2      1896 Summer Athina         Australia AUS       Australia              \n",
              "3      1896 Summer Athina         Australia AUS       Australia              \n",
              "4      1896 Summer Athina         Australia AUS       Australia/Great Britain\n",
              "5      1896 Summer Athina         Australia AUS       Australia              \n",
              "6      1896 Summer Athina         Austria   AUT       Austria                \n",
              "7      1896 Summer Athina         Austria   AUT       Austria                \n",
              "8      1896 Summer Athina         Austria   AUT       Austria                \n",
              "9      1896 Summer Athina         Austria   AUT       Austria                \n",
              "10     1896 Summer Athina         Austria   AUT       Austria                \n",
              "11     1896 Summer Athina         Austria   AUT       Austria                \n",
              "12     1896 Summer Athina         Austria   AUT       Austria                \n",
              "13     1896 Summer Athina         Austria   AUT       Austria                \n",
              "14     1896 Summer Athina         Denmark   DEN       Denmark                \n",
              "15     1896 Summer Athina         Denmark   DEN       Denmark                \n",
              "16     1896 Summer Athina         Denmark   DEN       Denmark                \n",
              "17     1896 Summer Athina         Denmark   DEN       Denmark                \n",
              "18     1896 Summer Athina         Denmark   DEN       Denmark                \n",
              "19     1896 Summer Athina         Denmark   DEN       Denmark                \n",
              "20     1896 Summer Athina         Denmark   DEN       Denmark                \n",
              "21     1896 Summer Athina         Denmark   DEN       Denmark                \n",
              "22     1896 Summer Athina         Denmark   DEN       Denmark                \n",
              "23     1896 Summer Athina         Denmark   DEN       Denmark                \n",
              "24     1896 Summer Athina         Denmark   DEN       Denmark                \n",
              "25     1896 Summer Athina         Denmark   DEN       Denmark                \n",
              "26     1896 Summer Athina         Denmark   DEN       Denmark                \n",
              "27     1896 Summer Athina         Denmark   DEN       Denmark                \n",
              "28     1896 Summer Athina         Denmark   DEN       Denmark                \n",
              "29     1896 Summer Athina         France    FRA       France                 \n",
              "30     1896 Summer Athina         France    FRA       France                 \n",
              "⋮      ⋮    ⋮      ⋮              ⋮         ⋮         ⋮                      \n",
              "269689 2016 Summer Rio de Janeiro           SGP       Singapore              \n",
              "269690 2016 Summer Rio de Janeiro           SGP       Singapore              \n",
              "269691 2016 Summer Rio de Janeiro           SGP       Singapore              \n",
              "269692 2016 Summer Rio de Janeiro           SGP       Singapore              \n",
              "269693 2016 Summer Rio de Janeiro           SGP       Singapore              \n",
              "269694 2016 Summer Rio de Janeiro           SGP       Singapore              \n",
              "269695 2016 Summer Rio de Janeiro           SGP       Singapore              \n",
              "269696 2016 Summer Rio de Janeiro           SGP       Singapore              \n",
              "269697 2016 Summer Rio de Janeiro           SGP       Singapore              \n",
              "269698 2016 Summer Rio de Janeiro           SGP       Singapore              \n",
              "269699 2016 Summer Rio de Janeiro           SGP       Singapore              \n",
              "269700 2016 Summer Rio de Janeiro           SGP       Singapore              \n",
              "269701 2016 Summer Rio de Janeiro           SGP       Singapore              \n",
              "269702 2016 Summer Rio de Janeiro           SGP       Singapore              \n",
              "269703 2016 Summer Rio de Janeiro           SGP       Singapore              \n",
              "269704 2016 Summer Rio de Janeiro           SGP       Singapore              \n",
              "269705 2016 Summer Rio de Janeiro           SGP       Singapore              \n",
              "269706 2016 Summer Rio de Janeiro           SGP       Singapore              \n",
              "269707 2016 Summer Rio de Janeiro           SGP       Singapore              \n",
              "269708 2016 Summer Rio de Janeiro           SGP       Singapore              \n",
              "269709 2016 Summer Rio de Janeiro           SGP       Singapore              \n",
              "269710 2016 Summer Rio de Janeiro           SGP       Singapore              \n",
              "269711 2016 Summer Rio de Janeiro           SGP       Singapore              \n",
              "269712 2016 Summer Rio de Janeiro           SGP       Singapore              \n",
              "269713 2016 Summer Rio de Janeiro           SGP       Singapore              \n",
              "269714 2016 Summer Rio de Janeiro           SGP       Singapore              \n",
              "269715 2016 Summer Rio de Janeiro           SGP       Singapore              \n",
              "269716 2016 Summer Rio de Janeiro           SGP       Singapore              \n",
              "269717 2016 Summer Rio de Janeiro           SGP       Singapore              \n",
              "269718 2016 Summer Rio de Janeiro           TUV       Tuvalu                 \n",
              "       id_atleta nome_atleta                sexo idade altura peso\n",
              "1       35698    Edwin Harold \"Teddy\" Flack M    22    NA     NA  \n",
              "2       35698    Edwin Harold \"Teddy\" Flack M    22    NA     NA  \n",
              "3       35698    Edwin Harold \"Teddy\" Flack M    22    NA     NA  \n",
              "4       35698    Edwin Harold \"Teddy\" Flack M    22    NA     NA  \n",
              "5       35698    Edwin Harold \"Teddy\" Flack M    22    NA     NA  \n",
              "6       48195    Otto Herschmann            M    19    NA     NA  \n",
              "7       85477    Paul Neumann (-Newman)     M    20    NA     NA  \n",
              "8       85477    Paul Neumann (-Newman)     M    20    NA     NA  \n",
              "9      107006    Felix Adolf Schmal         M    23    NA     NA  \n",
              "10     107006    Felix Adolf Schmal         M    23    NA     NA  \n",
              "11     107006    Felix Adolf Schmal         M    23    NA     NA  \n",
              "12     107006    Felix Adolf Schmal         M    23    NA     NA  \n",
              "13     107006    Felix Adolf Schmal         M    23    NA     NA  \n",
              "14      54456    Alexander Viggo Jensen     M    21    NA     NA  \n",
              "15      54456    Alexander Viggo Jensen     M    21    NA     NA  \n",
              "16      54456    Alexander Viggo Jensen     M    21    NA     NA  \n",
              "17      54456    Alexander Viggo Jensen     M    21    NA     NA  \n",
              "18      54456    Alexander Viggo Jensen     M    21    NA     NA  \n",
              "19      54456    Alexander Viggo Jensen     M    21    NA     NA  \n",
              "20      54456    Alexander Viggo Jensen     M    21    NA     NA  \n",
              "21      85988    Holger Louis Nielsen       M    29    NA     NA  \n",
              "22      85988    Holger Louis Nielsen       M    29    NA     NA  \n",
              "23      85988    Holger Louis Nielsen       M    29    NA     NA  \n",
              "24      85988    Holger Louis Nielsen       M    29    NA     NA  \n",
              "25      85988    Holger Louis Nielsen       M    29    NA     NA  \n",
              "26      85988    Holger Louis Nielsen       M    29    NA     NA  \n",
              "27     107090    Eugen Stahl Schmidt        M    34    NA     NA  \n",
              "28     107090    Eugen Stahl Schmidt        M    34    NA     NA  \n",
              "29      17492    Eugne Henri Callot         M    20    NA     NA  \n",
              "30      26280    Georges Daviel de la Nzire M    17    NA     NA  \n",
              "⋮      ⋮         ⋮                          ⋮    ⋮     ⋮      ⋮   \n",
              "269689  21132    Bei Fen Jovina Choo        F    26    164    57  \n",
              "269690  34619    Feng Tian Wei              F    29    163    55  \n",
              "269691  34619    Feng Tian Wei              F    29    163    55  \n",
              "269692  38418    Gao Ning                   M    33    179    80  \n",
              "269693  59330    Griselda Khng              F    25    155    60  \n",
              "269694  69626    Liang Xiaoyu               F    20    163    55  \n",
              "269695  69895    Denise Lim                 F    24    155    57  \n",
              "269696  70604    Justin Liu                 M    25    167    78  \n",
              "269697  85313    Neo Jie Shi                F    31    168    50  \n",
              "269698  85633    Ling Kai Amanda Ng         F    22    170    58  \n",
              "269699  89153    Leonard Ong                M    23    170    68  \n",
              "269700  97809    Quah Ting Wen              F    23    175    60  \n",
              "269701  97810    Quah Zheng Wen             M    19    179    79  \n",
              "269702  97810    Quah Zheng Wen             M    19    179    79  \n",
              "269703  97810    Quah Zheng Wen             M    19    179    79  \n",
              "269704 107436    Joseph Isaac Schooling     M    21    184    74  \n",
              "269705 107436    Joseph Isaac Schooling     M    21    184    74  \n",
              "269706 108760    Xiang Wei \"Jasmine\" Ser    F    25    155    47  \n",
              "269707 108760    Xiang Wei \"Jasmine\" Ser    F    25    155    47  \n",
              "269708 118281    Li Ching Sara Tan          F    25    171    71  \n",
              "269709 119191    Teo Shun Xie               F    27    168    63  \n",
              "269710 119191    Teo Shun Xie               F    27    168    63  \n",
              "269711 131420    Zi Liang \"Derek\" Wong      M    27    176    69  \n",
              "269712 132637    Jin Wei \"Timothee\" Yap     M    21    178    66  \n",
              "269713 132986    Yin Yue \"Elizabeth\" Yin    F    24    167    70  \n",
              "269714 133071    Pei Lin \"Audrey\" Yong      F    21    156    50  \n",
              "269715 133346    Yu Mengyu                  F    26    166    50  \n",
              "269716 133346    Yu Mengyu                  F    26    166    50  \n",
              "269717 134826    Zhou Yihan                 F    22    168    54  \n",
              "269718 120422    Etimoni Timuani            M    24    184    72  \n",
              "       esporte      \n",
              "1      Athletics    \n",
              "2      Athletics    \n",
              "3      Athletics    \n",
              "4      Tennis       \n",
              "5      Tennis       \n",
              "6      Swimming     \n",
              "7      Swimming     \n",
              "8      Swimming     \n",
              "9      Cycling      \n",
              "10     Cycling      \n",
              "11     Cycling      \n",
              "12     Cycling      \n",
              "13     Fencing      \n",
              "14     Athletics    \n",
              "15     Athletics    \n",
              "16     Gymnastics   \n",
              "17     Shooting     \n",
              "18     Shooting     \n",
              "19     Weightlifting\n",
              "20     Weightlifting\n",
              "21     Athletics    \n",
              "22     Fencing      \n",
              "23     Shooting     \n",
              "24     Shooting     \n",
              "25     Shooting     \n",
              "26     Shooting     \n",
              "27     Athletics    \n",
              "28     Shooting     \n",
              "29     Fencing      \n",
              "30     Athletics    \n",
              "⋮      ⋮            \n",
              "269689 Sailing      \n",
              "269690 Table Tennis \n",
              "269691 Table Tennis \n",
              "269692 Table Tennis \n",
              "269693 Sailing      \n",
              "269694 Badminton    \n",
              "269695 Sailing      \n",
              "269696 Sailing      \n",
              "269697 Athletics    \n",
              "269698 Sailing      \n",
              "269699 Sailing      \n",
              "269700 Swimming     \n",
              "269701 Swimming     \n",
              "269702 Swimming     \n",
              "269703 Swimming     \n",
              "269704 Swimming     \n",
              "269705 Swimming     \n",
              "269706 Shooting     \n",
              "269707 Shooting     \n",
              "269708 Sailing      \n",
              "269709 Shooting     \n",
              "269710 Shooting     \n",
              "269711 Badminton    \n",
              "269712 Athletics    \n",
              "269713 Sailing      \n",
              "269714 Sailing      \n",
              "269715 Table Tennis \n",
              "269716 Table Tennis \n",
              "269717 Table Tennis \n",
              "269718 Athletics    \n",
              "       evento                                                        medalha\n",
              "1      Athletics Men's 1,500 metres                                  Gold   \n",
              "2      Athletics Men's 800 metres                                    Gold   \n",
              "3      Athletics Men's Marathon                                             \n",
              "4      Tennis Men's Doubles                                          Bronze \n",
              "5      Tennis Men's Singles                                                 \n",
              "6      Swimming Men's 100 metres Freestyle                           Silver \n",
              "7      Swimming Men's 1,200 metres Freestyle                                \n",
              "8      Swimming Men's 500 metres Freestyle                           Gold   \n",
              "9      Cycling Men's 10,000 metres                                   Bronze \n",
              "10     Cycling Men's 100 kilometres                                         \n",
              "11     Cycling Men's 12-Hours Race                                   Gold   \n",
              "12     Cycling Men's 333 metres Time Trial                           Bronze \n",
              "13     Fencing Men's Sabre, Individual                                      \n",
              "14     Athletics Men's Discus Throw                                         \n",
              "15     Athletics Men's Shot Put                                             \n",
              "16     Gymnastics Men's Rope Climbing                                       \n",
              "17     Shooting Men's Free Rifle, Three Positions, 300 metres        Bronze \n",
              "18     Shooting Men's Military Rifle, 200 metres                            \n",
              "19     Weightlifting Men's Unlimited, One Hand                       Silver \n",
              "20     Weightlifting Men's Unlimited, Two Hands                      Gold   \n",
              "21     Athletics Men's Discus Throw                                         \n",
              "22     Fencing Men's Sabre, Individual                               Bronze \n",
              "23     Shooting Men's Free Pistol, 30 metres                         Silver \n",
              "24     Shooting Men's Military Pistol, 25 metres                            \n",
              "25     Shooting Men's Military Rifle, 200 metres                            \n",
              "26     Shooting Men's Muzzle-Loading Pistol, 25 metres               Bronze \n",
              "27     Athletics Men's 100 metres                                           \n",
              "28     Shooting Men's Military Rifle, 200 metres                            \n",
              "29     Fencing Men's Foil, Individual                                Silver \n",
              "30     Athletics Men's 800 metres                                           \n",
              "⋮      ⋮                                                             ⋮      \n",
              "269689 Sailing Women's Two Person Dinghy                                    \n",
              "269690 Table Tennis Women's Singles                                         \n",
              "269691 Table Tennis Women's Team                                            \n",
              "269692 Table Tennis Men's Singles                                           \n",
              "269693 Sailing Women's Skiff                                                \n",
              "269694 Badminton Women's Singles                                            \n",
              "269695 Sailing Mixed Multihull                                              \n",
              "269696 Sailing Mixed Multihull                                              \n",
              "269697 Athletics Women's Marathon                                           \n",
              "269698 Sailing Women's Two Person Dinghy                                    \n",
              "269699 Sailing Men's Windsurfer                                             \n",
              "269700 Swimming Women's 100 metres Butterfly                                \n",
              "269701 Swimming Men's 100 metres Backstroke                                 \n",
              "269702 Swimming Men's 100 metres Butterfly                                  \n",
              "269703 Swimming Men's 200 metres Butterfly                                  \n",
              "269704 Swimming Men's 100 metres Butterfly                           Gold   \n",
              "269705 Swimming Men's 100 metres Freestyle                                  \n",
              "269706 Shooting Women's Air Rifle, 10 metres                                \n",
              "269707 Shooting Women's Small-Bore Rifle, Three Positions, 50 metres        \n",
              "269708 Sailing Women's Skiff                                                \n",
              "269709 Shooting Women's Air Pistol, 10 metres                               \n",
              "269710 Shooting Women's Sporting Pistol, 25 metres                          \n",
              "269711 Badminton Men's Singles                                              \n",
              "269712 Athletics Men's 100 metres                                           \n",
              "269713 Sailing Women's One Person Dinghy                                    \n",
              "269714 Sailing Women's Windsurfer                                           \n",
              "269715 Table Tennis Women's Singles                                         \n",
              "269716 Table Tennis Women's Team                                            \n",
              "269717 Table Tennis Women's Team                                            \n",
              "269718 Athletics Men's 100 metres                                           "
            ]
          },
          "metadata": {}
        }
      ]
    },
    {
      "cell_type": "code",
      "source": [
        "contagem_categorias <- table(tabela$pais)\n",
        "contagem_categorias\n",
        "\n",
        "media_coluna <- mean(tabela$idade, na.rm = TRUE)\n",
        "media_coluna"
      ],
      "metadata": {
        "colab": {
          "base_uri": "https://localhost:8080/",
          "height": 1000
        },
        "id": "wVginlbbt9xc",
        "outputId": "f0ecefe6-d233-4ce9-88d9-6b98af8d60dc"
      },
      "execution_count": 72,
      "outputs": [
        {
          "output_type": "display_data",
          "data": {
            "text/plain": [
              "\n",
              "                                                      Afghanistan \n",
              "                             370                              126 \n",
              "                         Albania                          Algeria \n",
              "                              70                              551 \n",
              "                  American Samoa                          Andorra \n",
              "                              37                              169 \n",
              "                          Angola                          Antigua \n",
              "                             267                              133 \n",
              "                       Argentina                          Armenia \n",
              "                            3296                              221 \n",
              "                           Aruba                        Australia \n",
              "                              42                             7723 \n",
              "                         Austria                       Azerbaijan \n",
              "                            5078                              283 \n",
              "                         Bahamas                          Bahrain \n",
              "                             374                              126 \n",
              "                      Bangladesh                         Barbados \n",
              "                              55                              219 \n",
              "                         Belarus                          Belgium \n",
              "                            1787                             3780 \n",
              "                          Belize                            Benin \n",
              "                              76                               71 \n",
              "                         Bermuda                           Bhutan \n",
              "                             212                               36 \n",
              "                          Boliva           Bosnia and Herzegovina \n",
              "                             152                              134 \n",
              "                        Botswana                           Brazil \n",
              "                              90                             3848 \n",
              "                          Brunei                         Bulgaria \n",
              "                              10                             3529 \n",
              "                    Burkina Faso                          Burundi \n",
              "                              44                               39 \n",
              "                        Cambodia                         Cameroon \n",
              "                              63                              312 \n",
              "                          Canada                       Cape Verde \n",
              "                            9681                               18 \n",
              "                  Cayman Islands         Central African Republic \n",
              "                              83                               67 \n",
              "                            Chad                            Chile \n",
              "                              41                              925 \n",
              "                           China                         Colombia \n",
              "                            5826                             1069 \n",
              "                         Comoros                     Cook Islands \n",
              "                              19                               40 \n",
              "                      Costa Rica                          Croatia \n",
              "                             264                              876 \n",
              "                            Cuba                          Curacao \n",
              "                            2479                               79 \n",
              "                          Cyprus                   Czech Republic \n",
              "                             225                             6405 \n",
              "Democratic Republic of the Congo                          Denmark \n",
              "                              93                             3531 \n",
              "                        Djibouti                         Dominica \n",
              "                              38                               19 \n",
              "              Dominican Republic                          Ecuador \n",
              "                             277                              277 \n",
              "                           Egypt                      El Salvador \n",
              "                            1620                              215 \n",
              "               Equatorial Guinea                          Eritrea \n",
              "                              40                               43 \n",
              "                         Estonia                         Ethiopia \n",
              "                             876                              378 \n",
              "                            Fiji                          Finland \n",
              "                             232                             5467 \n",
              "                          France                            Gabon \n",
              "                           12539                               63 \n",
              "                          Gambia                          Georgia \n",
              "                              56                              286 \n",
              "                         Germany                            Ghana \n",
              "                           15787                              359 \n",
              "                          Greece                          Grenada \n",
              "                            3191                               54 \n",
              "                            Guam                        Guatemala \n",
              "                             112                              425 \n",
              "                          Guinea                    Guinea-Bissau \n",
              "                              73                               21 \n",
              "                          Guyana                            Haiti \n",
              "                             102                              106 \n",
              "                        Honduras                          Hungary \n",
              "                             189                             6552 \n",
              "                         Iceland                            India \n",
              "                             627                             1408 \n",
              "     Individual Olympic Athletes                        Indonesia \n",
              "                              94                              412 \n",
              "                            Iran                             Iraq \n",
              "                             789                              232 \n",
              "                         Ireland                           Israel \n",
              "                            1323                              665 \n",
              "                           Italy                      Ivory Coast \n",
              "                           10668                              193 \n",
              "                         Jamaica                            Japan \n",
              "                             848                             8424 \n",
              "                          Jordan                       Kazakhstan \n",
              "                              80                             1429 \n",
              "                           Kenya                         Kiribati \n",
              "                             772                               11 \n",
              "                          Kosovo                           Kuwait \n",
              "                               8                              284 \n",
              "                      Kyrgyzstan                             Laos \n",
              "                             227                               54 \n",
              "                          Latvia                          Lebanon \n",
              "                             937                              329 \n",
              "                         Lesotho                          Liberia \n",
              "                              66                               74 \n",
              "                           Libya                    Liechtenstein \n",
              "                              84                              369 \n",
              "                       Lithuania                       Luxembourg \n",
              "                             654                              972 \n",
              "                       Macedonia                       Madagascar \n",
              "                              84                              119 \n",
              "                          Malawi                         Malaysia \n",
              "                              87                              577 \n",
              "                        Maldives                             Mali \n",
              "                              49                               92 \n",
              "                           Malta                 Marshall Islands \n",
              "                             118                               14 \n",
              "                      Mauritania                        Mauritius \n",
              "                              29                              144 \n",
              "                          Mexico                       Micronesia \n",
              "                            2865                               26 \n",
              "                         Moldova                           Monaco \n",
              "                             234                              197 \n",
              "                        Mongolia                       Montenegro \n",
              "                             550                               94 \n",
              "                         Morocco                       Mozambique \n",
              "                             682                               78 \n",
              "                         Myanmar                          Namibia \n",
              "                             111                               77 \n",
              "                           Nauru                            Nepal \n",
              "                              13                               94 \n",
              "                     Netherlands                      New Zealand \n",
              "                            5781                             2342 \n",
              "                       Nicaragua                            Niger \n",
              "                             129                               47 \n",
              "                         Nigeria                      North Korea \n",
              "                             882                              807 \n",
              "                          Norway                             Oman \n",
              "                            4954                               66 \n",
              "                        Pakistan                            Palau \n",
              "                             562                               25 \n",
              "                       Palestine                           Panama \n",
              "                              21                              139 \n",
              "                Papua New Guinea                         Paraguay \n",
              "                             108                              135 \n",
              "                            Peru                      Philippines \n",
              "                             531                              694 \n",
              "                          Poland                         Portugal \n",
              "                            6158                             1522 \n",
              "                     Puerto Rico                            Qatar \n",
              "                             927                              192 \n",
              "               Republic of Congo                          Romania \n",
              "                             105                             4404 \n",
              "                          Russia                           Rwanda \n",
              "                           11692                               56 \n",
              "                     Saint Kitts                      Saint Lucia \n",
              "                              42                               28 \n",
              "                   Saint Vincent                            Samoa \n",
              "                              42                               63 \n",
              "                      San Marino            Sao Tome and Principe \n",
              "                             181                               15 \n",
              "                    Saudi Arabia                          Senegal \n",
              "                             230                              393 \n",
              "                          Serbia                       Seychelles \n",
              "                            3292                              111 \n",
              "                    Sierra Leone                         Slovakia \n",
              "                             114                             1055 \n",
              "                        Slovenia                  Solomon Islands \n",
              "                            1111                               27 \n",
              "                         Somalia                     South Africa \n",
              "                              32                             1699 \n",
              "                     South Korea                      South Sudan \n",
              "                            4464                                3 \n",
              "                           Spain                        Sri Lanka \n",
              "                            5313                              146 \n",
              "                           Sudan                         Suriname \n",
              "                             107                               69 \n",
              "                       Swaziland                           Sweden \n",
              "                              67                             8291 \n",
              "                     Switzerland                            Syria \n",
              "                            6085                              279 \n",
              "                          Taiwan                       Tajikistan \n",
              "                            1097                               70 \n",
              "                        Tanzania                         Thailand \n",
              "                             161                              747 \n",
              "                     Timor-Leste                             Togo \n",
              "                               9                               59 \n",
              "                           Tonga                         Trinidad \n",
              "                              46                              395 \n",
              "                         Tunisia                           Turkey \n",
              "                             561                             1355 \n",
              "                    Turkmenistan                           Uganda \n",
              "                              54                              260 \n",
              "                              UK                          Ukraine \n",
              "                           12115                             2559 \n",
              "            United Arab Emirates                          Uruguay \n",
              "                             144                              572 \n",
              "                             USA                       Uzbekistan \n",
              "                           18604                              495 \n",
              "                         Vanuatu                        Venezuela \n",
              "                              35                              925 \n",
              "                         Vietnam          Virgin Islands, British \n",
              "                             216                               45 \n",
              "              Virgin Islands, US                            Yemen \n",
              "                             294                               48 \n",
              "                          Zambia                         Zimbabwe \n",
              "                             183                              323 "
            ]
          },
          "metadata": {}
        },
        {
          "output_type": "display_data",
          "data": {
            "text/html": [
              "25.4544871548712"
            ],
            "text/markdown": "25.4544871548712",
            "text/latex": "25.4544871548712",
            "text/plain": [
              "[1] 25.45449"
            ]
          },
          "metadata": {}
        }
      ]
    }
  ]
}