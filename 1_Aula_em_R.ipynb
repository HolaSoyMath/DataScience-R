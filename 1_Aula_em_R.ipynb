{
  "nbformat": 4,
  "nbformat_minor": 0,
  "metadata": {
    "colab": {
      "provenance": [],
      "authorship_tag": "ABX9TyPnF2NpeKps/8x9k7cWVRmO",
      "include_colab_link": true
    },
    "kernelspec": {
      "name": "ir",
      "display_name": "R"
    },
    "language_info": {
      "name": "R"
    }
  },
  "cells": [
    {
      "cell_type": "markdown",
      "metadata": {
        "id": "view-in-github",
        "colab_type": "text"
      },
      "source": [
        "<a href=\"https://colab.research.google.com/github/HolaSoyMath/DataScience-R/blob/main/1_Aula_em_R.ipynb\" target=\"_parent\"><img src=\"https://colab.research.google.com/assets/colab-badge.svg\" alt=\"Open In Colab\"/></a>"
      ]
    },
    {
      "cell_type": "code",
      "execution_count": null,
      "metadata": {
        "colab": {
          "base_uri": "https://localhost:8080/"
        },
        "id": "tJVJ42hPKV31",
        "outputId": "6e684894-1a00-472d-f0be-0171b9dfb4e5"
      },
      "outputs": [
        {
          "output_type": "stream",
          "name": "stdout",
          "text": [
            "[1] \"Hello World!\"\n"
          ]
        }
      ],
      "source": [
        "print(\"Hello World!\")"
      ]
    },
    {
      "cell_type": "code",
      "source": [
        "x <- 10\n",
        "y <- 1:10\n",
        "y"
      ],
      "metadata": {
        "colab": {
          "base_uri": "https://localhost:8080/",
          "height": 34
        },
        "id": "a9hMGG9nN5m_",
        "outputId": "7254a014-b6df-453e-b2e1-54fcab5ff281"
      },
      "execution_count": null,
      "outputs": [
        {
          "output_type": "display_data",
          "data": {
            "text/html": [
              "<style>\n",
              ".list-inline {list-style: none; margin:0; padding: 0}\n",
              ".list-inline>li {display: inline-block}\n",
              ".list-inline>li:not(:last-child)::after {content: \"\\00b7\"; padding: 0 .5ex}\n",
              "</style>\n",
              "<ol class=list-inline><li>1</li><li>2</li><li>3</li><li>4</li><li>5</li><li>6</li><li>7</li><li>8</li><li>9</li><li>10</li></ol>\n"
            ],
            "text/markdown": "1. 1\n2. 2\n3. 3\n4. 4\n5. 5\n6. 6\n7. 7\n8. 8\n9. 9\n10. 10\n\n\n",
            "text/latex": "\\begin{enumerate*}\n\\item 1\n\\item 2\n\\item 3\n\\item 4\n\\item 5\n\\item 6\n\\item 7\n\\item 8\n\\item 9\n\\item 10\n\\end{enumerate*}\n",
            "text/plain": [
              " [1]  1  2  3  4  5  6  7  8  9 10"
            ]
          },
          "metadata": {}
        }
      ]
    },
    {
      "cell_type": "code",
      "source": [
        "x <- c(10,20,30)\n",
        "y <- c(30,20,10)\n",
        "z <- x<y\n",
        "z"
      ],
      "metadata": {
        "colab": {
          "base_uri": "https://localhost:8080/",
          "height": 34
        },
        "id": "fzhw4esYO6sM",
        "outputId": "6827a646-e8cd-483d-c3af-d511f8ff0bcc"
      },
      "execution_count": null,
      "outputs": [
        {
          "output_type": "display_data",
          "data": {
            "text/html": [
              "<style>\n",
              ".list-inline {list-style: none; margin:0; padding: 0}\n",
              ".list-inline>li {display: inline-block}\n",
              ".list-inline>li:not(:last-child)::after {content: \"\\00b7\"; padding: 0 .5ex}\n",
              "</style>\n",
              "<ol class=list-inline><li>TRUE</li><li>FALSE</li><li>FALSE</li></ol>\n"
            ],
            "text/markdown": "1. TRUE\n2. FALSE\n3. FALSE\n\n\n",
            "text/latex": "\\begin{enumerate*}\n\\item TRUE\n\\item FALSE\n\\item FALSE\n\\end{enumerate*}\n",
            "text/plain": [
              "[1]  TRUE FALSE FALSE"
            ]
          },
          "metadata": {}
        }
      ]
    },
    {
      "cell_type": "code",
      "source": [
        "x_media <- mean(x)\n",
        "y_media <- mean(y)\n",
        "x_media\n",
        "y_media"
      ],
      "metadata": {
        "colab": {
          "base_uri": "https://localhost:8080/",
          "height": 52
        },
        "id": "w0-BOZQBQVgl",
        "outputId": "975e497f-42b7-4928-8754-80d9cbeb9da6"
      },
      "execution_count": null,
      "outputs": [
        {
          "output_type": "display_data",
          "data": {
            "text/html": [
              "20"
            ],
            "text/markdown": "20",
            "text/latex": "20",
            "text/plain": [
              "[1] 20"
            ]
          },
          "metadata": {}
        },
        {
          "output_type": "display_data",
          "data": {
            "text/html": [
              "20"
            ],
            "text/markdown": "20",
            "text/latex": "20",
            "text/plain": [
              "[1] 20"
            ]
          },
          "metadata": {}
        }
      ]
    },
    {
      "cell_type": "code",
      "source": [
        "# + = Adição\n",
        "# - = Subtração\n",
        "# * = Multiplicação\n",
        "# / = Divisão\n",
        "# ** = Potência\n",
        "# %% = Resto da divisão\n",
        "# %/% = Parte inteira da divisão"
      ],
      "metadata": {
        "colab": {
          "base_uri": "https://localhost:8080/",
          "height": 34
        },
        "id": "7zMqbz3GQ7sA",
        "outputId": "470c0483-f3b2-4181-a0d4-1d504eaa675c"
      },
      "execution_count": null,
      "outputs": [
        {
          "output_type": "display_data",
          "data": {
            "text/html": [
              "2"
            ],
            "text/markdown": "2",
            "text/latex": "2",
            "text/plain": [
              "[1] 2"
            ]
          },
          "metadata": {}
        }
      ]
    },
    {
      "cell_type": "code",
      "source": [
        "# < : Menor que\n",
        "# <= : Menor ou igual a\n",
        "# > : Maior que\n",
        "# >= : Maior ou igual a\n",
        "# == : Igual a\n",
        "# != : Diferente de\n",
        "# sqrt() : Raíz quadrada\n",
        "# fatorial() : Fatorial"
      ],
      "metadata": {
        "id": "L9QIVFtTRgLk"
      },
      "execution_count": null,
      "outputs": []
    },
    {
      "cell_type": "code",
      "source": [
        "x <- c(TRUE, TRUE, FALSE, FALSE, TRUE)\n",
        "y <- c(FALSE, TRUE, TRUE, FALSE, FALSE)\n",
        "\n",
        "# | = OU (União)\n",
        "# & = E (Interseção)\n",
        "\n",
        "z_ou <- (x | y)\n",
        "z_e <- (x & y)\n",
        "\n",
        "z_ou\n",
        "z_e"
      ],
      "metadata": {
        "colab": {
          "base_uri": "https://localhost:8080/",
          "height": 52
        },
        "id": "Hrp9ifBhSE4g",
        "outputId": "9e4c14c9-7d45-47f7-aabd-e50e657dad6b"
      },
      "execution_count": null,
      "outputs": [
        {
          "output_type": "display_data",
          "data": {
            "text/html": [
              "<style>\n",
              ".list-inline {list-style: none; margin:0; padding: 0}\n",
              ".list-inline>li {display: inline-block}\n",
              ".list-inline>li:not(:last-child)::after {content: \"\\00b7\"; padding: 0 .5ex}\n",
              "</style>\n",
              "<ol class=list-inline><li>TRUE</li><li>TRUE</li><li>TRUE</li><li>FALSE</li><li>TRUE</li></ol>\n"
            ],
            "text/markdown": "1. TRUE\n2. TRUE\n3. TRUE\n4. FALSE\n5. TRUE\n\n\n",
            "text/latex": "\\begin{enumerate*}\n\\item TRUE\n\\item TRUE\n\\item TRUE\n\\item FALSE\n\\item TRUE\n\\end{enumerate*}\n",
            "text/plain": [
              "[1]  TRUE  TRUE  TRUE FALSE  TRUE"
            ]
          },
          "metadata": {}
        },
        {
          "output_type": "display_data",
          "data": {
            "text/html": [
              "<style>\n",
              ".list-inline {list-style: none; margin:0; padding: 0}\n",
              ".list-inline>li {display: inline-block}\n",
              ".list-inline>li:not(:last-child)::after {content: \"\\00b7\"; padding: 0 .5ex}\n",
              "</style>\n",
              "<ol class=list-inline><li>FALSE</li><li>TRUE</li><li>FALSE</li><li>FALSE</li><li>FALSE</li></ol>\n"
            ],
            "text/markdown": "1. FALSE\n2. TRUE\n3. FALSE\n4. FALSE\n5. FALSE\n\n\n",
            "text/latex": "\\begin{enumerate*}\n\\item FALSE\n\\item TRUE\n\\item FALSE\n\\item FALSE\n\\item FALSE\n\\end{enumerate*}\n",
            "text/plain": [
              "[1] FALSE  TRUE FALSE FALSE FALSE"
            ]
          },
          "metadata": {}
        }
      ]
    },
    {
      "cell_type": "code",
      "source": [
        "v1 <- vector()\n",
        "v2 <- vector(\"integer\", length = 10)\n",
        "v3 <- character(10)\n",
        "v4 <- c(5,10,15,4,2,4,6)\n",
        "v5"
      ],
      "metadata": {
        "colab": {
          "base_uri": "https://localhost:8080/",
          "height": 34
        },
        "id": "Ff1GXHplT4a3",
        "outputId": "420bdecb-3e3f-484b-dee6-a2028a2b65df"
      },
      "execution_count": null,
      "outputs": [
        {
          "output_type": "display_data",
          "data": {
            "text/html": [
              "<style>\n",
              ".list-inline {list-style: none; margin:0; padding: 0}\n",
              ".list-inline>li {display: inline-block}\n",
              ".list-inline>li:not(:last-child)::after {content: \"\\00b7\"; padding: 0 .5ex}\n",
              "</style>\n",
              "<ol class=list-inline><li>1</li><li>2</li><li>3.5</li><li>9.8</li></ol>\n"
            ],
            "text/markdown": "1. 1\n2. 2\n3. 3.5\n4. 9.8\n\n\n",
            "text/latex": "\\begin{enumerate*}\n\\item 1\n\\item 2\n\\item 3.5\n\\item 9.8\n\\end{enumerate*}\n",
            "text/plain": [
              "[1] 1.0 2.0 3.5 9.8"
            ]
          },
          "metadata": {}
        }
      ]
    },
    {
      "cell_type": "code",
      "source": [
        "x <- list(1:10, \"Z\", TRUE, c(\"TSU\", \"KILL\"))\n",
        "x\n",
        "print(\"Índice 1\")\n",
        "x[1]"
      ],
      "metadata": {
        "colab": {
          "base_uri": "https://localhost:8080/",
          "height": 177
        },
        "id": "ciG6e8t7Vzio",
        "outputId": "ff158283-d67c-47af-8a5b-cf34331bbbc9"
      },
      "execution_count": null,
      "outputs": [
        {
          "output_type": "display_data",
          "data": {
            "text/html": [
              "<ol>\n",
              "\t<li><style>\n",
              ".list-inline {list-style: none; margin:0; padding: 0}\n",
              ".list-inline>li {display: inline-block}\n",
              ".list-inline>li:not(:last-child)::after {content: \"\\00b7\"; padding: 0 .5ex}\n",
              "</style>\n",
              "<ol class=list-inline><li>1</li><li>2</li><li>3</li><li>4</li><li>5</li><li>6</li><li>7</li><li>8</li><li>9</li><li>10</li></ol>\n",
              "</li>\n",
              "\t<li>'Z'</li>\n",
              "\t<li>TRUE</li>\n",
              "\t<li><style>\n",
              ".list-inline {list-style: none; margin:0; padding: 0}\n",
              ".list-inline>li {display: inline-block}\n",
              ".list-inline>li:not(:last-child)::after {content: \"\\00b7\"; padding: 0 .5ex}\n",
              "</style>\n",
              "<ol class=list-inline><li>'TSU'</li><li>'KILL'</li></ol>\n",
              "</li>\n",
              "</ol>\n"
            ],
            "text/markdown": "1. 1. 1\n2. 2\n3. 3\n4. 4\n5. 5\n6. 6\n7. 7\n8. 8\n9. 9\n10. 10\n\n\n\n2. 'Z'\n3. TRUE\n4. 1. 'TSU'\n2. 'KILL'\n\n\n\n\n\n",
            "text/latex": "\\begin{enumerate}\n\\item \\begin{enumerate*}\n\\item 1\n\\item 2\n\\item 3\n\\item 4\n\\item 5\n\\item 6\n\\item 7\n\\item 8\n\\item 9\n\\item 10\n\\end{enumerate*}\n\n\\item 'Z'\n\\item TRUE\n\\item \\begin{enumerate*}\n\\item 'TSU'\n\\item 'KILL'\n\\end{enumerate*}\n\n\\end{enumerate}\n",
            "text/plain": [
              "[[1]]\n",
              " [1]  1  2  3  4  5  6  7  8  9 10\n",
              "\n",
              "[[2]]\n",
              "[1] \"Z\"\n",
              "\n",
              "[[3]]\n",
              "[1] TRUE\n",
              "\n",
              "[[4]]\n",
              "[1] \"TSU\"  \"KILL\"\n"
            ]
          },
          "metadata": {}
        },
        {
          "output_type": "stream",
          "name": "stdout",
          "text": [
            "[1] \"Índice 1\"\n"
          ]
        },
        {
          "output_type": "display_data",
          "data": {
            "text/html": [
              "<ol>\n",
              "\t<li><style>\n",
              ".list-inline {list-style: none; margin:0; padding: 0}\n",
              ".list-inline>li {display: inline-block}\n",
              ".list-inline>li:not(:last-child)::after {content: \"\\00b7\"; padding: 0 .5ex}\n",
              "</style>\n",
              "<ol class=list-inline><li>1</li><li>2</li><li>3</li><li>4</li><li>5</li><li>6</li><li>7</li><li>8</li><li>9</li><li>10</li></ol>\n",
              "</li>\n",
              "</ol>\n"
            ],
            "text/markdown": "1. 1. 1\n2. 2\n3. 3\n4. 4\n5. 5\n6. 6\n7. 7\n8. 8\n9. 9\n10. 10\n\n\n\n\n\n",
            "text/latex": "\\begin{enumerate}\n\\item \\begin{enumerate*}\n\\item 1\n\\item 2\n\\item 3\n\\item 4\n\\item 5\n\\item 6\n\\item 7\n\\item 8\n\\item 9\n\\item 10\n\\end{enumerate*}\n\n\\end{enumerate}\n",
            "text/plain": [
              "[[1]]\n",
              " [1]  1  2  3  4  5  6  7  8  9 10\n"
            ]
          },
          "metadata": {}
        }
      ]
    },
    {
      "cell_type": "code",
      "source": [
        "math <- list(nome=\"Matheus\", CPF=\"0123456789\", tel=\"41 984860525\")\n",
        "math$nome\n",
        "math[['end']] <- \"Rua dos pintagalos, 500\"\n",
        "math$end"
      ],
      "metadata": {
        "colab": {
          "base_uri": "https://localhost:8080/",
          "height": 52
        },
        "id": "3Pydpxn0YEPi",
        "outputId": "7e1f53b9-09c4-458a-e631-2cccda6e25f2"
      },
      "execution_count": null,
      "outputs": [
        {
          "output_type": "display_data",
          "data": {
            "text/html": [
              "'Matheus'"
            ],
            "text/markdown": "'Matheus'",
            "text/latex": "'Matheus'",
            "text/plain": [
              "[1] \"Matheus\""
            ]
          },
          "metadata": {}
        },
        {
          "output_type": "display_data",
          "data": {
            "text/html": [
              "'Rua dos pintagalos, 500'"
            ],
            "text/markdown": "'Rua dos pintagalos, 500'",
            "text/latex": "'Rua dos pintagalos, 500'",
            "text/plain": [
              "[1] \"Rua dos pintagalos, 500\""
            ]
          },
          "metadata": {}
        }
      ]
    },
    {
      "cell_type": "code",
      "source": [
        "# Criar um vetor com valores de -5 a +5\n",
        "v1 <- -5:5\n",
        "print(\"Valores de V1: \")\n",
        "v1\n",
        "# Criar outro vetor com valores do v1 elevado a 3 (v1**3)\n",
        "v2 <- v1 ** 3\n",
        "print(\"Valores de V2: \")\n",
        "v2\n",
        "# Comparar logicamente ambos os vetores\n",
        "v3 <- v1 == v2\n",
        "print(\"Valores de V3: \")\n",
        "v3"
      ],
      "metadata": {
        "colab": {
          "base_uri": "https://localhost:8080/",
          "height": 121
        },
        "id": "NzlBx2I1ZW13",
        "outputId": "bd01adee-ef1a-4ff4-f7f3-ef590cd4d392"
      },
      "execution_count": null,
      "outputs": [
        {
          "output_type": "stream",
          "name": "stdout",
          "text": [
            "[1] \"Valores de V1: \"\n"
          ]
        },
        {
          "output_type": "display_data",
          "data": {
            "text/html": [
              "<style>\n",
              ".list-inline {list-style: none; margin:0; padding: 0}\n",
              ".list-inline>li {display: inline-block}\n",
              ".list-inline>li:not(:last-child)::after {content: \"\\00b7\"; padding: 0 .5ex}\n",
              "</style>\n",
              "<ol class=list-inline><li>-5</li><li>-4</li><li>-3</li><li>-2</li><li>-1</li><li>0</li><li>1</li><li>2</li><li>3</li><li>4</li><li>5</li></ol>\n"
            ],
            "text/markdown": "1. -5\n2. -4\n3. -3\n4. -2\n5. -1\n6. 0\n7. 1\n8. 2\n9. 3\n10. 4\n11. 5\n\n\n",
            "text/latex": "\\begin{enumerate*}\n\\item -5\n\\item -4\n\\item -3\n\\item -2\n\\item -1\n\\item 0\n\\item 1\n\\item 2\n\\item 3\n\\item 4\n\\item 5\n\\end{enumerate*}\n",
            "text/plain": [
              " [1] -5 -4 -3 -2 -1  0  1  2  3  4  5"
            ]
          },
          "metadata": {}
        },
        {
          "output_type": "stream",
          "name": "stdout",
          "text": [
            "[1] \"Valores de V2: \"\n"
          ]
        },
        {
          "output_type": "display_data",
          "data": {
            "text/html": [
              "<style>\n",
              ".list-inline {list-style: none; margin:0; padding: 0}\n",
              ".list-inline>li {display: inline-block}\n",
              ".list-inline>li:not(:last-child)::after {content: \"\\00b7\"; padding: 0 .5ex}\n",
              "</style>\n",
              "<ol class=list-inline><li>-125</li><li>-64</li><li>-27</li><li>-8</li><li>-1</li><li>0</li><li>1</li><li>8</li><li>27</li><li>64</li><li>125</li></ol>\n"
            ],
            "text/markdown": "1. -125\n2. -64\n3. -27\n4. -8\n5. -1\n6. 0\n7. 1\n8. 8\n9. 27\n10. 64\n11. 125\n\n\n",
            "text/latex": "\\begin{enumerate*}\n\\item -125\n\\item -64\n\\item -27\n\\item -8\n\\item -1\n\\item 0\n\\item 1\n\\item 8\n\\item 27\n\\item 64\n\\item 125\n\\end{enumerate*}\n",
            "text/plain": [
              " [1] -125  -64  -27   -8   -1    0    1    8   27   64  125"
            ]
          },
          "metadata": {}
        },
        {
          "output_type": "stream",
          "name": "stdout",
          "text": [
            "[1] \"Valores de V3: \"\n"
          ]
        },
        {
          "output_type": "display_data",
          "data": {
            "text/html": [
              "<style>\n",
              ".list-inline {list-style: none; margin:0; padding: 0}\n",
              ".list-inline>li {display: inline-block}\n",
              ".list-inline>li:not(:last-child)::after {content: \"\\00b7\"; padding: 0 .5ex}\n",
              "</style>\n",
              "<ol class=list-inline><li>FALSE</li><li>FALSE</li><li>FALSE</li><li>FALSE</li><li>TRUE</li><li>TRUE</li><li>TRUE</li><li>FALSE</li><li>FALSE</li><li>FALSE</li><li>FALSE</li></ol>\n"
            ],
            "text/markdown": "1. FALSE\n2. FALSE\n3. FALSE\n4. FALSE\n5. TRUE\n6. TRUE\n7. TRUE\n8. FALSE\n9. FALSE\n10. FALSE\n11. FALSE\n\n\n",
            "text/latex": "\\begin{enumerate*}\n\\item FALSE\n\\item FALSE\n\\item FALSE\n\\item FALSE\n\\item TRUE\n\\item TRUE\n\\item TRUE\n\\item FALSE\n\\item FALSE\n\\item FALSE\n\\item FALSE\n\\end{enumerate*}\n",
            "text/plain": [
              " [1] FALSE FALSE FALSE FALSE  TRUE  TRUE  TRUE FALSE FALSE FALSE FALSE"
            ]
          },
          "metadata": {}
        }
      ]
    },
    {
      "cell_type": "code",
      "source": [
        "v1 <- seq(1,10,2) # De 1 a 10 com step 2\n",
        "v2 <- seq(2,5,0.5)\n",
        "v3 <- seq(1,5,length.out = 10)# De 1 a 5 forçando ter 10 numeros no meio\n",
        "v4 <- rep(20,5) # Repetir o valor 20 por 5 vezes\n",
        "v5 <- rep(5:10,3)# Repetir a sequencia de 5 a 10, 3 vezes\n",
        "v6 <- rep(5:10, length.out=7) # Repetir a sequencia de 5 a 10, até ter 7 valores, no caso ficaria de 5 a 10 e adiciona novamente o valor 5\n",
        "v6[6]\n",
        "v6[-6] # Elimina o sexto elemento do vetor\n",
        "v6[c(1,3)] # Resulta no primeiro e terceiro elemento do vetor, formando um novo vetor"
      ],
      "metadata": {
        "id": "LTQ_2kN5hzBq",
        "colab": {
          "base_uri": "https://localhost:8080/",
          "height": 86
        },
        "outputId": "0217a55e-9498-4129-879c-9b2c14498623"
      },
      "execution_count": 56,
      "outputs": [
        {
          "output_type": "display_data",
          "data": {
            "text/html": [
              "10"
            ],
            "text/markdown": "10",
            "text/latex": "10",
            "text/plain": [
              "[1] 10"
            ]
          },
          "metadata": {}
        },
        {
          "output_type": "display_data",
          "data": {
            "text/html": [
              "<style>\n",
              ".list-inline {list-style: none; margin:0; padding: 0}\n",
              ".list-inline>li {display: inline-block}\n",
              ".list-inline>li:not(:last-child)::after {content: \"\\00b7\"; padding: 0 .5ex}\n",
              "</style>\n",
              "<ol class=list-inline><li>5</li><li>6</li><li>7</li><li>8</li><li>9</li><li>5</li></ol>\n"
            ],
            "text/markdown": "1. 5\n2. 6\n3. 7\n4. 8\n5. 9\n6. 5\n\n\n",
            "text/latex": "\\begin{enumerate*}\n\\item 5\n\\item 6\n\\item 7\n\\item 8\n\\item 9\n\\item 5\n\\end{enumerate*}\n",
            "text/plain": [
              "[1] 5 6 7 8 9 5"
            ]
          },
          "metadata": {}
        },
        {
          "output_type": "display_data",
          "data": {
            "text/html": [
              "<style>\n",
              ".list-inline {list-style: none; margin:0; padding: 0}\n",
              ".list-inline>li {display: inline-block}\n",
              ".list-inline>li:not(:last-child)::after {content: \"\\00b7\"; padding: 0 .5ex}\n",
              "</style>\n",
              "<ol class=list-inline><li>5</li><li>6</li><li>7</li><li>8</li><li>9</li><li>10</li><li>5</li></ol>\n"
            ],
            "text/markdown": "1. 5\n2. 6\n3. 7\n4. 8\n5. 9\n6. 10\n7. 5\n\n\n",
            "text/latex": "\\begin{enumerate*}\n\\item 5\n\\item 6\n\\item 7\n\\item 8\n\\item 9\n\\item 10\n\\item 5\n\\end{enumerate*}\n",
            "text/plain": [
              "[1]  5  6  7  8  9 10  5"
            ]
          },
          "metadata": {}
        },
        {
          "output_type": "display_data",
          "data": {
            "text/html": [
              "<style>\n",
              ".list-inline {list-style: none; margin:0; padding: 0}\n",
              ".list-inline>li {display: inline-block}\n",
              ".list-inline>li:not(:last-child)::after {content: \"\\00b7\"; padding: 0 .5ex}\n",
              "</style>\n",
              "<ol class=list-inline><li>5</li><li>7</li></ol>\n"
            ],
            "text/markdown": "1. 5\n2. 7\n\n\n",
            "text/latex": "\\begin{enumerate*}\n\\item 5\n\\item 7\n\\end{enumerate*}\n",
            "text/plain": [
              "[1] 5 7"
            ]
          },
          "metadata": {}
        }
      ]
    },
    {
      "cell_type": "code",
      "source": [
        "matriz <- matrix(1:6, nrow=2, ncol=3)\n",
        "matriz"
      ],
      "metadata": {
        "colab": {
          "base_uri": "https://localhost:8080/",
          "height": 132
        },
        "id": "rCA9zhGUlI9k",
        "outputId": "745edb91-6572-441c-b815-9159b652f361"
      },
      "execution_count": 57,
      "outputs": [
        {
          "output_type": "display_data",
          "data": {
            "text/html": [
              "<table class=\"dataframe\">\n",
              "<caption>A matrix: 2 × 3 of type int</caption>\n",
              "<tbody>\n",
              "\t<tr><td>1</td><td>3</td><td>5</td></tr>\n",
              "\t<tr><td>2</td><td>4</td><td>6</td></tr>\n",
              "</tbody>\n",
              "</table>\n"
            ],
            "text/markdown": "\nA matrix: 2 × 3 of type int\n\n| 1 | 3 | 5 |\n| 2 | 4 | 6 |\n\n",
            "text/latex": "A matrix: 2 × 3 of type int\n\\begin{tabular}{lll}\n\t 1 & 3 & 5\\\\\n\t 2 & 4 & 6\\\\\n\\end{tabular}\n",
            "text/plain": [
              "     [,1] [,2] [,3]\n",
              "[1,] 1    3    5   \n",
              "[2,] 2    4    6   "
            ]
          },
          "metadata": {}
        }
      ]
    }
  ]
}